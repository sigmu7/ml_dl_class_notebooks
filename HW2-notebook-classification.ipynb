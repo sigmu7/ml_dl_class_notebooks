{
 "cells": [
  {
   "cell_type": "markdown",
   "metadata": {},
   "source": [
    "# Classification Model"
   ]
  },
  {
   "cell_type": "code",
   "execution_count": 3,
   "metadata": {},
   "outputs": [],
   "source": [
    "# Load libraries\n",
    "#from pandas.plotting import scatter_matrix\n",
    "from matplotlib import pyplot\n",
    "\n",
    "#import seaborn as sns\n",
    "from datetime import datetime\n",
    "import numpy as np\n",
    "import pandas as pd\n",
    "#from sklearn.linear_model import LinearRegression\n",
    "from sklearn.metrics import mean_squared_error\n"
   ]
  },
  {
   "cell_type": "markdown",
   "metadata": {},
   "source": [
    "# Loading data"
   ]
  },
  {
   "cell_type": "markdown",
   "metadata": {},
   "source": [
    "Dataset chosen for HW1 is the Uber/Lyft price dataset available on Kaggle: https://www.kaggle.com/ravi72munde/uber-lyft-cab-prices\n",
    "This dataset is price data (includes price & surge multiplier) collected from the Lyft & Uber APIs in Boston in Nov-Dec 2018. Surge multiplier is the factor by which Uber/Lyft scale the normal price between an origin and destination at a given time. If surge multiplier = 1.0 then the price is regular price.\n",
    "\n",
    "The problem in HW2 is to predict the surge multiplier class [1, 1.25, 1.5, 1.75, 2, 2.25, 2.5] based on distance, weather, day of week, time of day, etc."
   ]
  },
  {
   "cell_type": "code",
   "execution_count": 4,
   "metadata": {},
   "outputs": [
    {
     "data": {
      "text/html": [
       "<div>\n",
       "<style scoped>\n",
       "    .dataframe tbody tr th:only-of-type {\n",
       "        vertical-align: middle;\n",
       "    }\n",
       "\n",
       "    .dataframe tbody tr th {\n",
       "        vertical-align: top;\n",
       "    }\n",
       "\n",
       "    .dataframe thead th {\n",
       "        text-align: right;\n",
       "    }\n",
       "</style>\n",
       "<table border=\"1\" class=\"dataframe\">\n",
       "  <thead>\n",
       "    <tr style=\"text-align: right;\">\n",
       "      <th></th>\n",
       "      <th>distance</th>\n",
       "      <th>cab_type</th>\n",
       "      <th>time_stamp</th>\n",
       "      <th>destination</th>\n",
       "      <th>source</th>\n",
       "      <th>price</th>\n",
       "      <th>surge_multiplier</th>\n",
       "      <th>id</th>\n",
       "      <th>product_id</th>\n",
       "      <th>name</th>\n",
       "    </tr>\n",
       "  </thead>\n",
       "  <tbody>\n",
       "    <tr>\n",
       "      <th>0</th>\n",
       "      <td>0.44</td>\n",
       "      <td>Lyft</td>\n",
       "      <td>1544952607890</td>\n",
       "      <td>North Station</td>\n",
       "      <td>Haymarket Square</td>\n",
       "      <td>5.0</td>\n",
       "      <td>1.0</td>\n",
       "      <td>424553bb-7174-41ea-aeb4-fe06d4f4b9d7</td>\n",
       "      <td>lyft_line</td>\n",
       "      <td>Shared</td>\n",
       "    </tr>\n",
       "    <tr>\n",
       "      <th>1</th>\n",
       "      <td>0.44</td>\n",
       "      <td>Lyft</td>\n",
       "      <td>1543284023677</td>\n",
       "      <td>North Station</td>\n",
       "      <td>Haymarket Square</td>\n",
       "      <td>11.0</td>\n",
       "      <td>1.0</td>\n",
       "      <td>4bd23055-6827-41c6-b23b-3c491f24e74d</td>\n",
       "      <td>lyft_premier</td>\n",
       "      <td>Lux</td>\n",
       "    </tr>\n",
       "    <tr>\n",
       "      <th>2</th>\n",
       "      <td>0.44</td>\n",
       "      <td>Lyft</td>\n",
       "      <td>1543366822198</td>\n",
       "      <td>North Station</td>\n",
       "      <td>Haymarket Square</td>\n",
       "      <td>7.0</td>\n",
       "      <td>1.0</td>\n",
       "      <td>981a3613-77af-4620-a42a-0c0866077d1e</td>\n",
       "      <td>lyft</td>\n",
       "      <td>Lyft</td>\n",
       "    </tr>\n",
       "  </tbody>\n",
       "</table>\n",
       "</div>"
      ],
      "text/plain": [
       "   distance cab_type     time_stamp    destination            source  price  \\\n",
       "0      0.44     Lyft  1544952607890  North Station  Haymarket Square    5.0   \n",
       "1      0.44     Lyft  1543284023677  North Station  Haymarket Square   11.0   \n",
       "2      0.44     Lyft  1543366822198  North Station  Haymarket Square    7.0   \n",
       "\n",
       "   surge_multiplier                                    id    product_id  \\\n",
       "0               1.0  424553bb-7174-41ea-aeb4-fe06d4f4b9d7     lyft_line   \n",
       "1               1.0  4bd23055-6827-41c6-b23b-3c491f24e74d  lyft_premier   \n",
       "2               1.0  981a3613-77af-4620-a42a-0c0866077d1e          lyft   \n",
       "\n",
       "     name  \n",
       "0  Shared  \n",
       "1     Lux  \n",
       "2    Lyft  "
      ]
     },
     "execution_count": 4,
     "metadata": {},
     "output_type": "execute_result"
    }
   ],
   "source": [
    "# Load dataset\n",
    "filename = 'cab_rides.csv'\n",
    "cabs_df = pd.read_csv(filename)\n",
    "cabs_df.head(3)\n"
   ]
  },
  {
   "cell_type": "markdown",
   "metadata": {},
   "source": [
    "Another dataset available to add more features to the model is the weather information."
   ]
  },
  {
   "cell_type": "code",
   "execution_count": 5,
   "metadata": {
    "scrolled": true
   },
   "outputs": [
    {
     "data": {
      "text/html": [
       "<div>\n",
       "<style scoped>\n",
       "    .dataframe tbody tr th:only-of-type {\n",
       "        vertical-align: middle;\n",
       "    }\n",
       "\n",
       "    .dataframe tbody tr th {\n",
       "        vertical-align: top;\n",
       "    }\n",
       "\n",
       "    .dataframe thead th {\n",
       "        text-align: right;\n",
       "    }\n",
       "</style>\n",
       "<table border=\"1\" class=\"dataframe\">\n",
       "  <thead>\n",
       "    <tr style=\"text-align: right;\">\n",
       "      <th></th>\n",
       "      <th>temp</th>\n",
       "      <th>location</th>\n",
       "      <th>clouds</th>\n",
       "      <th>pressure</th>\n",
       "      <th>rain</th>\n",
       "      <th>time_stamp</th>\n",
       "      <th>humidity</th>\n",
       "      <th>wind</th>\n",
       "    </tr>\n",
       "  </thead>\n",
       "  <tbody>\n",
       "    <tr>\n",
       "      <th>0</th>\n",
       "      <td>42.42</td>\n",
       "      <td>Back Bay</td>\n",
       "      <td>1.0</td>\n",
       "      <td>1012.14</td>\n",
       "      <td>0.1228</td>\n",
       "      <td>1545003901</td>\n",
       "      <td>0.77</td>\n",
       "      <td>11.25</td>\n",
       "    </tr>\n",
       "    <tr>\n",
       "      <th>1</th>\n",
       "      <td>42.43</td>\n",
       "      <td>Beacon Hill</td>\n",
       "      <td>1.0</td>\n",
       "      <td>1012.15</td>\n",
       "      <td>0.1846</td>\n",
       "      <td>1545003901</td>\n",
       "      <td>0.76</td>\n",
       "      <td>11.32</td>\n",
       "    </tr>\n",
       "    <tr>\n",
       "      <th>2</th>\n",
       "      <td>42.50</td>\n",
       "      <td>Boston University</td>\n",
       "      <td>1.0</td>\n",
       "      <td>1012.15</td>\n",
       "      <td>0.1089</td>\n",
       "      <td>1545003901</td>\n",
       "      <td>0.76</td>\n",
       "      <td>11.07</td>\n",
       "    </tr>\n",
       "  </tbody>\n",
       "</table>\n",
       "</div>"
      ],
      "text/plain": [
       "    temp           location  clouds  pressure    rain  time_stamp  humidity  \\\n",
       "0  42.42           Back Bay     1.0   1012.14  0.1228  1545003901      0.77   \n",
       "1  42.43        Beacon Hill     1.0   1012.15  0.1846  1545003901      0.76   \n",
       "2  42.50  Boston University     1.0   1012.15  0.1089  1545003901      0.76   \n",
       "\n",
       "    wind  \n",
       "0  11.25  \n",
       "1  11.32  \n",
       "2  11.07  "
      ]
     },
     "execution_count": 5,
     "metadata": {},
     "output_type": "execute_result"
    }
   ],
   "source": [
    "filename = 'weather.csv'\n",
    "weather_df = pd.read_csv(filename)\n",
    "weather_df.head(3)"
   ]
  },
  {
   "cell_type": "markdown",
   "metadata": {},
   "source": [
    "# Basic Descriptive Statistics"
   ]
  },
  {
   "cell_type": "code",
   "execution_count": 3,
   "metadata": {},
   "outputs": [
    {
     "data": {
      "text/plain": [
       "(693071, 10)"
      ]
     },
     "execution_count": 3,
     "metadata": {},
     "output_type": "execute_result"
    }
   ],
   "source": [
    "# Descriptive Statistics\n",
    "cabs_df.shape"
   ]
  },
  {
   "cell_type": "code",
   "execution_count": 13,
   "metadata": {},
   "outputs": [
    {
     "data": {
      "text/html": [
       "<div>\n",
       "<style scoped>\n",
       "    .dataframe tbody tr th:only-of-type {\n",
       "        vertical-align: middle;\n",
       "    }\n",
       "\n",
       "    .dataframe tbody tr th {\n",
       "        vertical-align: top;\n",
       "    }\n",
       "\n",
       "    .dataframe thead th {\n",
       "        text-align: right;\n",
       "    }\n",
       "</style>\n",
       "<table border=\"1\" class=\"dataframe\">\n",
       "  <thead>\n",
       "    <tr style=\"text-align: right;\">\n",
       "      <th></th>\n",
       "      <th>distance</th>\n",
       "      <th>time_stamp</th>\n",
       "      <th>price</th>\n",
       "      <th>surge_multiplier</th>\n",
       "    </tr>\n",
       "  </thead>\n",
       "  <tbody>\n",
       "    <tr>\n",
       "      <th>count</th>\n",
       "      <td>693071.000000</td>\n",
       "      <td>6.930710e+05</td>\n",
       "      <td>637976.000000</td>\n",
       "      <td>693071.000000</td>\n",
       "    </tr>\n",
       "    <tr>\n",
       "      <th>mean</th>\n",
       "      <td>2.189430</td>\n",
       "      <td>1.544046e+12</td>\n",
       "      <td>16.545125</td>\n",
       "      <td>1.013870</td>\n",
       "    </tr>\n",
       "    <tr>\n",
       "      <th>std</th>\n",
       "      <td>1.138937</td>\n",
       "      <td>6.891925e+08</td>\n",
       "      <td>9.324359</td>\n",
       "      <td>0.091641</td>\n",
       "    </tr>\n",
       "    <tr>\n",
       "      <th>min</th>\n",
       "      <td>0.020000</td>\n",
       "      <td>1.543204e+12</td>\n",
       "      <td>2.500000</td>\n",
       "      <td>1.000000</td>\n",
       "    </tr>\n",
       "    <tr>\n",
       "      <th>25%</th>\n",
       "      <td>1.280000</td>\n",
       "      <td>1.543444e+12</td>\n",
       "      <td>9.000000</td>\n",
       "      <td>1.000000</td>\n",
       "    </tr>\n",
       "    <tr>\n",
       "      <th>50%</th>\n",
       "      <td>2.160000</td>\n",
       "      <td>1.543737e+12</td>\n",
       "      <td>13.500000</td>\n",
       "      <td>1.000000</td>\n",
       "    </tr>\n",
       "    <tr>\n",
       "      <th>75%</th>\n",
       "      <td>2.920000</td>\n",
       "      <td>1.544828e+12</td>\n",
       "      <td>22.500000</td>\n",
       "      <td>1.000000</td>\n",
       "    </tr>\n",
       "    <tr>\n",
       "      <th>max</th>\n",
       "      <td>7.860000</td>\n",
       "      <td>1.545161e+12</td>\n",
       "      <td>97.500000</td>\n",
       "      <td>3.000000</td>\n",
       "    </tr>\n",
       "  </tbody>\n",
       "</table>\n",
       "</div>"
      ],
      "text/plain": [
       "            distance    time_stamp          price  surge_multiplier\n",
       "count  693071.000000  6.930710e+05  637976.000000     693071.000000\n",
       "mean        2.189430  1.544046e+12      16.545125          1.013870\n",
       "std         1.138937  6.891925e+08       9.324359          0.091641\n",
       "min         0.020000  1.543204e+12       2.500000          1.000000\n",
       "25%         1.280000  1.543444e+12       9.000000          1.000000\n",
       "50%         2.160000  1.543737e+12      13.500000          1.000000\n",
       "75%         2.920000  1.544828e+12      22.500000          1.000000\n",
       "max         7.860000  1.545161e+12      97.500000          3.000000"
      ]
     },
     "execution_count": 13,
     "metadata": {},
     "output_type": "execute_result"
    }
   ],
   "source": [
    "# description\n",
    "cabs_df.describe()"
   ]
  },
  {
   "cell_type": "code",
   "execution_count": 15,
   "metadata": {},
   "outputs": [
    {
     "data": {
      "text/plain": [
       "cab_type\n",
       "Lyft    307408\n",
       "Uber    385663\n",
       "dtype: int64"
      ]
     },
     "execution_count": 15,
     "metadata": {},
     "output_type": "execute_result"
    }
   ],
   "source": [
    "\n",
    "cabs_df.groupby('cab_type').size()\n",
    "#dataset.groupby('IntersectionId').size()"
   ]
  },
  {
   "cell_type": "code",
   "execution_count": 16,
   "metadata": {},
   "outputs": [
    {
     "data": {
      "text/plain": [
       "distance            float64\n",
       "cab_type             object\n",
       "time_stamp            int64\n",
       "destination          object\n",
       "source               object\n",
       "price               float64\n",
       "surge_multiplier    float64\n",
       "id                   object\n",
       "product_id           object\n",
       "name                 object\n",
       "dtype: object"
      ]
     },
     "execution_count": 16,
     "metadata": {},
     "output_type": "execute_result"
    }
   ],
   "source": [
    "cabs_df.dtypes"
   ]
  },
  {
   "cell_type": "code",
   "execution_count": 8,
   "metadata": {
    "scrolled": true
   },
   "outputs": [
    {
     "data": {
      "image/png": "[encoded data removed]",
      "text/plain": [
       "<Figure size 432x288 with 4 Axes>"
      ]
     },
     "metadata": {
      "needs_background": "light"
     },
     "output_type": "display_data"
    },
    {
     "data": {
      "image/png": "[encoded data removed]",
      "text/plain": [
       "<Figure size 432x288 with 4 Axes>"
      ]
     },
     "metadata": {
      "needs_background": "light"
     },
     "output_type": "display_data"
    },
    {
     "data": {
      "image/png": "[encoded data removed]",
      "text/plain": [
       "<Figure size 432x288 with 16 Axes>"
      ]
     },
     "metadata": {
      "needs_background": "light"
     },
     "output_type": "display_data"
    }
   ],
   "source": [
    "# Data visualizations\n",
    "\n",
    "# box and whisker plots\n",
    "cabs_df.plot(kind='box', subplots=True, layout=(2,2), sharex=False, sharey=False)\n",
    "pyplot.show()\n",
    "# histograms\n",
    "cabs_df.hist()\n",
    "pyplot.show()\n",
    "# scatter plot matrix\n",
    "scatter_matrix(cabs_df)\n",
    "pyplot.show()\n"
   ]
  },
  {
   "cell_type": "markdown",
   "metadata": {},
   "source": [
    "# Data Processing & Preliminary Analysis"
   ]
  },
  {
   "cell_type": "code",
   "execution_count": 20,
   "metadata": {},
   "outputs": [
    {
     "data": {
      "text/plain": [
       "<matplotlib.axes._subplots.AxesSubplot at 0x1fe8338fd68>"
      ]
     },
     "execution_count": 20,
     "metadata": {},
     "output_type": "execute_result"
    },
    {
     "data": {
      "image/png": "[encoded data removed]",
      "text/plain": [
       "<Figure size 432x288 with 1 Axes>"
      ]
     },
     "metadata": {},
     "output_type": "display_data"
    }
   ],
   "source": [
    "# Changing to categorical variables\n",
    "ride_provider = ['Uber','Lyft']\n",
    "cabs_df.cab_type.astype(\"category\")\n",
    "\n",
    "sns.set()\n",
    "sns.countplot(cabs_df['cab_type'])"
   ]
  },
  {
   "cell_type": "code",
   "execution_count": 12,
   "metadata": {},
   "outputs": [
    {
     "data": {
      "text/plain": [
       "array(['Shared', 'Lux', 'Lyft', 'Lux Black XL', 'Lyft XL', 'Lux Black',\n",
       "       'UberXL', 'Black', 'UberX', 'WAV', 'Black SUV', 'UberPool', 'Taxi'],\n",
       "      dtype=object)"
      ]
     },
     "execution_count": 12,
     "metadata": {},
     "output_type": "execute_result"
    }
   ],
   "source": [
    "cabs_df.name.unique()"
   ]
  },
  {
   "cell_type": "code",
   "execution_count": 13,
   "metadata": {},
   "outputs": [
    {
     "data": {
      "text/plain": [
       "array(['lyft_line', 'lyft_premier', 'lyft', 'lyft_luxsuv', 'lyft_plus',\n",
       "       'lyft_lux', '6f72dfc5-27f1-42e8-84db-ccc7a75f6969',\n",
       "       '6c84fd89-3f11-4782-9b50-97c468b19529',\n",
       "       '55c66225-fbe7-4fd5-9072-eab1ece5e23e',\n",
       "       '9a0e7b09-b92b-4c41-9779-2ad22b4d779d',\n",
       "       '6d318bcc-22a3-4af6-bddd-b409bfce1546',\n",
       "       '997acbb5-e102-41e1-b155-9df7de0a73f2',\n",
       "       '8cf7e821-f0d3-49c6-8eba-e679c0ebcf6a'], dtype=object)"
      ]
     },
     "execution_count": 13,
     "metadata": {},
     "output_type": "execute_result"
    }
   ],
   "source": [
    "cabs_df.product_id.unique()"
   ]
  },
  {
   "cell_type": "code",
   "execution_count": 18,
   "metadata": {},
   "outputs": [
    {
     "data": {
      "text/plain": [
       "<matplotlib.axes._subplots.AxesSubplot at 0x1fe833a1208>"
      ]
     },
     "execution_count": 18,
     "metadata": {},
     "output_type": "execute_result"
    },
    {
     "data": {
      "image/png": "[encoded data removed]",
      "text/plain": [
       "<Figure size 432x288 with 1 Axes>"
      ]
     },
     "metadata": {},
     "output_type": "display_data"
    }
   ],
   "source": [
    "# Plotting frequency of 'product_id' \n",
    "sns.set()\n",
    "sns.countplot(cabs_df['product_id'])\n"
   ]
  },
  {
   "cell_type": "code",
   "execution_count": 17,
   "metadata": {},
   "outputs": [
    {
     "data": {
      "text/plain": [
       "WAV             55096\n",
       "Black SUV       55096\n",
       "UberXL          55096\n",
       "Black           55095\n",
       "Taxi            55095\n",
       "UberX           55094\n",
       "UberPool        55091\n",
       "Lux Black       51235\n",
       "Lux Black XL    51235\n",
       "Lux             51235\n",
       "Lyft XL         51235\n",
       "Lyft            51235\n",
       "Shared          51233\n",
       "Name: name, dtype: int64"
      ]
     },
     "execution_count": 17,
     "metadata": {},
     "output_type": "execute_result"
    }
   ],
   "source": [
    "#Frequency of types of rides ('name')\n",
    "cabs_df.name.value_counts()"
   ]
  },
  {
   "cell_type": "markdown",
   "metadata": {},
   "source": [
    "It appears that, since the data was collected from API, the data was equally sampled in each category of ride (Lyft/Uber and also Shared, Regular, Luxury, etc.). It appears this data is a 'balanced' dataset"
   ]
  },
  {
   "cell_type": "code",
   "execution_count": 6,
   "metadata": {},
   "outputs": [],
   "source": [
    "# Converting time stamp to DataTime format\n",
    "\n",
    "cabs_df['time_source'] = np.nan\n",
    "cabs_df['time_source'] = pd.to_datetime(cabs_df['time_stamp'],unit='ms')\n",
    "\n",
    "weather_df['time_source'] = pd.to_datetime(weather_df['time_stamp'],unit='s')"
   ]
  },
  {
   "cell_type": "code",
   "execution_count": 5,
   "metadata": {},
   "outputs": [
    {
     "data": {
      "text/html": [
       "<div>\n",
       "<style scoped>\n",
       "    .dataframe tbody tr th:only-of-type {\n",
       "        vertical-align: middle;\n",
       "    }\n",
       "\n",
       "    .dataframe tbody tr th {\n",
       "        vertical-align: top;\n",
       "    }\n",
       "\n",
       "    .dataframe thead th {\n",
       "        text-align: right;\n",
       "    }\n",
       "</style>\n",
       "<table border=\"1\" class=\"dataframe\">\n",
       "  <thead>\n",
       "    <tr style=\"text-align: right;\">\n",
       "      <th></th>\n",
       "      <th>distance</th>\n",
       "      <th>cab_type</th>\n",
       "      <th>time_stamp</th>\n",
       "      <th>destination</th>\n",
       "      <th>source</th>\n",
       "      <th>price</th>\n",
       "      <th>surge_multiplier</th>\n",
       "      <th>id</th>\n",
       "      <th>product_id</th>\n",
       "      <th>name</th>\n",
       "      <th>time_source</th>\n",
       "    </tr>\n",
       "  </thead>\n",
       "  <tbody>\n",
       "    <tr>\n",
       "      <th>693068</th>\n",
       "      <td>1.0</td>\n",
       "      <td>Uber</td>\n",
       "      <td>1543708385534</td>\n",
       "      <td>North End</td>\n",
       "      <td>West End</td>\n",
       "      <td>NaN</td>\n",
       "      <td>1.0</td>\n",
       "      <td>64d451d0-639f-47a4-9b7c-6fd92fbd264f</td>\n",
       "      <td>8cf7e821-f0d3-49c6-8eba-e679c0ebcf6a</td>\n",
       "      <td>Taxi</td>\n",
       "      <td>2018-12-01 23:53:05.534</td>\n",
       "    </tr>\n",
       "    <tr>\n",
       "      <th>693069</th>\n",
       "      <td>1.0</td>\n",
       "      <td>Uber</td>\n",
       "      <td>1543708385534</td>\n",
       "      <td>North End</td>\n",
       "      <td>West End</td>\n",
       "      <td>27.0</td>\n",
       "      <td>1.0</td>\n",
       "      <td>727e5f07-a96b-4ad1-a2c7-9abc3ad55b4e</td>\n",
       "      <td>6d318bcc-22a3-4af6-bddd-b409bfce1546</td>\n",
       "      <td>Black SUV</td>\n",
       "      <td>2018-12-01 23:53:05.534</td>\n",
       "    </tr>\n",
       "    <tr>\n",
       "      <th>693070</th>\n",
       "      <td>1.0</td>\n",
       "      <td>Uber</td>\n",
       "      <td>1543708385534</td>\n",
       "      <td>North End</td>\n",
       "      <td>West End</td>\n",
       "      <td>10.0</td>\n",
       "      <td>1.0</td>\n",
       "      <td>e7fdc087-fe86-40a5-a3c3-3b2a8badcbda</td>\n",
       "      <td>997acbb5-e102-41e1-b155-9df7de0a73f2</td>\n",
       "      <td>UberPool</td>\n",
       "      <td>2018-12-01 23:53:05.534</td>\n",
       "    </tr>\n",
       "  </tbody>\n",
       "</table>\n",
       "</div>"
      ],
      "text/plain": [
       "        distance cab_type     time_stamp destination    source  price  \\\n",
       "693068       1.0     Uber  1543708385534   North End  West End    NaN   \n",
       "693069       1.0     Uber  1543708385534   North End  West End   27.0   \n",
       "693070       1.0     Uber  1543708385534   North End  West End   10.0   \n",
       "\n",
       "        surge_multiplier                                    id  \\\n",
       "693068               1.0  64d451d0-639f-47a4-9b7c-6fd92fbd264f   \n",
       "693069               1.0  727e5f07-a96b-4ad1-a2c7-9abc3ad55b4e   \n",
       "693070               1.0  e7fdc087-fe86-40a5-a3c3-3b2a8badcbda   \n",
       "\n",
       "                                  product_id       name  \\\n",
       "693068  8cf7e821-f0d3-49c6-8eba-e679c0ebcf6a       Taxi   \n",
       "693069  6d318bcc-22a3-4af6-bddd-b409bfce1546  Black SUV   \n",
       "693070  997acbb5-e102-41e1-b155-9df7de0a73f2   UberPool   \n",
       "\n",
       "                   time_source  \n",
       "693068 2018-12-01 23:53:05.534  \n",
       "693069 2018-12-01 23:53:05.534  \n",
       "693070 2018-12-01 23:53:05.534  "
      ]
     },
     "execution_count": 5,
     "metadata": {},
     "output_type": "execute_result"
    }
   ],
   "source": [
    "cabs_df.tail(3)"
   ]
  },
  {
   "cell_type": "markdown",
   "metadata": {},
   "source": [
    "## Merging weather data with cab price data"
   ]
  },
  {
   "cell_type": "code",
   "execution_count": 7,
   "metadata": {},
   "outputs": [],
   "source": [
    "# Create index to match weather & cab datasets that includes time & location info\n",
    "cabs_df['merge_idx'] = cabs_df['source'].astype(str) + \" \" + cabs_df['time_source'].dt.date.astype(str) + \" \" + cabs_df['time_source'].dt.hour.astype(str)\n",
    "weather_df['merge_idx'] = weather_df['location'].astype(str) + \" \" + weather_df['time_source'].dt.date.astype(str) + \" \" + weather_df['time_source'].dt.hour.astype(str)\n"
   ]
  },
  {
   "cell_type": "code",
   "execution_count": 8,
   "metadata": {},
   "outputs": [],
   "source": [
    "weather_df.index = weather_df[\"merge_idx\"]\n",
    "cabs_wea_df = cabs_df.join(weather_df, on = \"merge_idx\", rsuffix = \"_w\")"
   ]
  },
  {
   "cell_type": "code",
   "execution_count": 9,
   "metadata": {},
   "outputs": [
    {
     "data": {
      "text/html": [
       "<div>\n",
       "<style scoped>\n",
       "    .dataframe tbody tr th:only-of-type {\n",
       "        vertical-align: middle;\n",
       "    }\n",
       "\n",
       "    .dataframe tbody tr th {\n",
       "        vertical-align: top;\n",
       "    }\n",
       "\n",
       "    .dataframe thead th {\n",
       "        text-align: right;\n",
       "    }\n",
       "</style>\n",
       "<table border=\"1\" class=\"dataframe\">\n",
       "  <thead>\n",
       "    <tr style=\"text-align: right;\">\n",
       "      <th></th>\n",
       "      <th>distance</th>\n",
       "      <th>cab_type</th>\n",
       "      <th>time_stamp</th>\n",
       "      <th>destination</th>\n",
       "      <th>source</th>\n",
       "      <th>price</th>\n",
       "      <th>surge_multiplier</th>\n",
       "      <th>id</th>\n",
       "      <th>product_id</th>\n",
       "      <th>name</th>\n",
       "      <th>...</th>\n",
       "      <th>temp</th>\n",
       "      <th>location</th>\n",
       "      <th>clouds</th>\n",
       "      <th>pressure</th>\n",
       "      <th>rain</th>\n",
       "      <th>time_stamp_w</th>\n",
       "      <th>humidity</th>\n",
       "      <th>wind</th>\n",
       "      <th>time_source_w</th>\n",
       "      <th>merge_idx_w</th>\n",
       "    </tr>\n",
       "  </thead>\n",
       "  <tbody>\n",
       "    <tr>\n",
       "      <th>0</th>\n",
       "      <td>0.44</td>\n",
       "      <td>Lyft</td>\n",
       "      <td>1544952607890</td>\n",
       "      <td>North Station</td>\n",
       "      <td>Haymarket Square</td>\n",
       "      <td>5.0</td>\n",
       "      <td>1.0</td>\n",
       "      <td>424553bb-7174-41ea-aeb4-fe06d4f4b9d7</td>\n",
       "      <td>lyft_line</td>\n",
       "      <td>Shared</td>\n",
       "      <td>...</td>\n",
       "      <td>38.46</td>\n",
       "      <td>Haymarket Square</td>\n",
       "      <td>0.29</td>\n",
       "      <td>1022.25</td>\n",
       "      <td>NaN</td>\n",
       "      <td>1.544954e+09</td>\n",
       "      <td>0.76</td>\n",
       "      <td>7.68</td>\n",
       "      <td>2018-12-16 09:45:01</td>\n",
       "      <td>Haymarket Square 2018-12-16 9</td>\n",
       "    </tr>\n",
       "    <tr>\n",
       "      <th>1</th>\n",
       "      <td>0.44</td>\n",
       "      <td>Lyft</td>\n",
       "      <td>1543284023677</td>\n",
       "      <td>North Station</td>\n",
       "      <td>Haymarket Square</td>\n",
       "      <td>11.0</td>\n",
       "      <td>1.0</td>\n",
       "      <td>4bd23055-6827-41c6-b23b-3c491f24e74d</td>\n",
       "      <td>lyft_premier</td>\n",
       "      <td>Lux</td>\n",
       "      <td>...</td>\n",
       "      <td>44.31</td>\n",
       "      <td>Haymarket Square</td>\n",
       "      <td>1.00</td>\n",
       "      <td>1003.17</td>\n",
       "      <td>0.1123</td>\n",
       "      <td>1.543285e+09</td>\n",
       "      <td>0.90</td>\n",
       "      <td>13.69</td>\n",
       "      <td>2018-11-27 02:15:20</td>\n",
       "      <td>Haymarket Square 2018-11-27 2</td>\n",
       "    </tr>\n",
       "    <tr>\n",
       "      <th>1</th>\n",
       "      <td>0.44</td>\n",
       "      <td>Lyft</td>\n",
       "      <td>1543284023677</td>\n",
       "      <td>North Station</td>\n",
       "      <td>Haymarket Square</td>\n",
       "      <td>11.0</td>\n",
       "      <td>1.0</td>\n",
       "      <td>4bd23055-6827-41c6-b23b-3c491f24e74d</td>\n",
       "      <td>lyft_premier</td>\n",
       "      <td>Lux</td>\n",
       "      <td>...</td>\n",
       "      <td>43.82</td>\n",
       "      <td>Haymarket Square</td>\n",
       "      <td>0.99</td>\n",
       "      <td>1002.59</td>\n",
       "      <td>0.0997</td>\n",
       "      <td>1.543287e+09</td>\n",
       "      <td>0.89</td>\n",
       "      <td>11.57</td>\n",
       "      <td>2018-11-27 02:45:20</td>\n",
       "      <td>Haymarket Square 2018-11-27 2</td>\n",
       "    </tr>\n",
       "  </tbody>\n",
       "</table>\n",
       "<p>3 rows × 22 columns</p>\n",
       "</div>"
      ],
      "text/plain": [
       "   distance cab_type     time_stamp    destination            source  price  \\\n",
       "0      0.44     Lyft  1544952607890  North Station  Haymarket Square    5.0   \n",
       "1      0.44     Lyft  1543284023677  North Station  Haymarket Square   11.0   \n",
       "1      0.44     Lyft  1543284023677  North Station  Haymarket Square   11.0   \n",
       "\n",
       "   surge_multiplier                                    id    product_id  \\\n",
       "0               1.0  424553bb-7174-41ea-aeb4-fe06d4f4b9d7     lyft_line   \n",
       "1               1.0  4bd23055-6827-41c6-b23b-3c491f24e74d  lyft_premier   \n",
       "1               1.0  4bd23055-6827-41c6-b23b-3c491f24e74d  lyft_premier   \n",
       "\n",
       "     name  ...   temp          location  clouds pressure    rain  \\\n",
       "0  Shared  ...  38.46  Haymarket Square    0.29  1022.25     NaN   \n",
       "1     Lux  ...  44.31  Haymarket Square    1.00  1003.17  0.1123   \n",
       "1     Lux  ...  43.82  Haymarket Square    0.99  1002.59  0.0997   \n",
       "\n",
       "   time_stamp_w  humidity   wind       time_source_w  \\\n",
       "0  1.544954e+09      0.76   7.68 2018-12-16 09:45:01   \n",
       "1  1.543285e+09      0.90  13.69 2018-11-27 02:15:20   \n",
       "1  1.543287e+09      0.89  11.57 2018-11-27 02:45:20   \n",
       "\n",
       "                     merge_idx_w  \n",
       "0  Haymarket Square 2018-12-16 9  \n",
       "1  Haymarket Square 2018-11-27 2  \n",
       "1  Haymarket Square 2018-11-27 2  \n",
       "\n",
       "[3 rows x 22 columns]"
      ]
     },
     "execution_count": 9,
     "metadata": {},
     "output_type": "execute_result"
    }
   ],
   "source": [
    "cabs_wea_df.head(3)"
   ]
  },
  {
   "cell_type": "code",
   "execution_count": 10,
   "metadata": {},
   "outputs": [],
   "source": [
    "cabs_wea_df['rain'].fillna(0,inplace=True)\n",
    "cabs_wea_df['day']=cabs_wea_df['time_source_w'].dt.dayofweek\n",
    "cabs_wea_df['hour']=cabs_wea_df['time_source_w'].dt.hour\n"
   ]
  },
  {
   "cell_type": "code",
   "execution_count": 11,
   "metadata": {},
   "outputs": [],
   "source": [
    "cabs_wea_df = cabs_wea_df[pd.notnull(cabs_wea_df['time_source_w'])]"
   ]
  },
  {
   "cell_type": "code",
   "execution_count": 12,
   "metadata": {},
   "outputs": [],
   "source": [
    "cabs_wea_df = cabs_wea_df[pd.notnull(cabs_wea_df['price'])]"
   ]
  },
  {
   "cell_type": "code",
   "execution_count": 13,
   "metadata": {},
   "outputs": [
    {
     "data": {
      "text/html": [
       "<div>\n",
       "<style scoped>\n",
       "    .dataframe tbody tr th:only-of-type {\n",
       "        vertical-align: middle;\n",
       "    }\n",
       "\n",
       "    .dataframe tbody tr th {\n",
       "        vertical-align: top;\n",
       "    }\n",
       "\n",
       "    .dataframe thead th {\n",
       "        text-align: right;\n",
       "    }\n",
       "</style>\n",
       "<table border=\"1\" class=\"dataframe\">\n",
       "  <thead>\n",
       "    <tr style=\"text-align: right;\">\n",
       "      <th></th>\n",
       "      <th>distance</th>\n",
       "      <th>cab_type</th>\n",
       "      <th>time_stamp</th>\n",
       "      <th>destination</th>\n",
       "      <th>source</th>\n",
       "      <th>price</th>\n",
       "      <th>surge_multiplier</th>\n",
       "      <th>id</th>\n",
       "      <th>product_id</th>\n",
       "      <th>name</th>\n",
       "      <th>...</th>\n",
       "      <th>clouds</th>\n",
       "      <th>pressure</th>\n",
       "      <th>rain</th>\n",
       "      <th>time_stamp_w</th>\n",
       "      <th>humidity</th>\n",
       "      <th>wind</th>\n",
       "      <th>time_source_w</th>\n",
       "      <th>merge_idx_w</th>\n",
       "      <th>day</th>\n",
       "      <th>hour</th>\n",
       "    </tr>\n",
       "  </thead>\n",
       "  <tbody>\n",
       "    <tr>\n",
       "      <th>0</th>\n",
       "      <td>0.44</td>\n",
       "      <td>Lyft</td>\n",
       "      <td>1544952607890</td>\n",
       "      <td>North Station</td>\n",
       "      <td>Haymarket Square</td>\n",
       "      <td>5.0</td>\n",
       "      <td>1.0</td>\n",
       "      <td>424553bb-7174-41ea-aeb4-fe06d4f4b9d7</td>\n",
       "      <td>lyft_line</td>\n",
       "      <td>Shared</td>\n",
       "      <td>...</td>\n",
       "      <td>0.29</td>\n",
       "      <td>1022.25</td>\n",
       "      <td>0.0000</td>\n",
       "      <td>1.544954e+09</td>\n",
       "      <td>0.76</td>\n",
       "      <td>7.68</td>\n",
       "      <td>2018-12-16 09:45:01</td>\n",
       "      <td>Haymarket Square 2018-12-16 9</td>\n",
       "      <td>6.0</td>\n",
       "      <td>9.0</td>\n",
       "    </tr>\n",
       "    <tr>\n",
       "      <th>1</th>\n",
       "      <td>0.44</td>\n",
       "      <td>Lyft</td>\n",
       "      <td>1543284023677</td>\n",
       "      <td>North Station</td>\n",
       "      <td>Haymarket Square</td>\n",
       "      <td>11.0</td>\n",
       "      <td>1.0</td>\n",
       "      <td>4bd23055-6827-41c6-b23b-3c491f24e74d</td>\n",
       "      <td>lyft_premier</td>\n",
       "      <td>Lux</td>\n",
       "      <td>...</td>\n",
       "      <td>1.00</td>\n",
       "      <td>1003.17</td>\n",
       "      <td>0.1123</td>\n",
       "      <td>1.543285e+09</td>\n",
       "      <td>0.90</td>\n",
       "      <td>13.69</td>\n",
       "      <td>2018-11-27 02:15:20</td>\n",
       "      <td>Haymarket Square 2018-11-27 2</td>\n",
       "      <td>1.0</td>\n",
       "      <td>2.0</td>\n",
       "    </tr>\n",
       "    <tr>\n",
       "      <th>1</th>\n",
       "      <td>0.44</td>\n",
       "      <td>Lyft</td>\n",
       "      <td>1543284023677</td>\n",
       "      <td>North Station</td>\n",
       "      <td>Haymarket Square</td>\n",
       "      <td>11.0</td>\n",
       "      <td>1.0</td>\n",
       "      <td>4bd23055-6827-41c6-b23b-3c491f24e74d</td>\n",
       "      <td>lyft_premier</td>\n",
       "      <td>Lux</td>\n",
       "      <td>...</td>\n",
       "      <td>0.99</td>\n",
       "      <td>1002.59</td>\n",
       "      <td>0.0997</td>\n",
       "      <td>1.543287e+09</td>\n",
       "      <td>0.89</td>\n",
       "      <td>11.57</td>\n",
       "      <td>2018-11-27 02:45:20</td>\n",
       "      <td>Haymarket Square 2018-11-27 2</td>\n",
       "      <td>1.0</td>\n",
       "      <td>2.0</td>\n",
       "    </tr>\n",
       "  </tbody>\n",
       "</table>\n",
       "<p>3 rows × 24 columns</p>\n",
       "</div>"
      ],
      "text/plain": [
       "   distance cab_type     time_stamp    destination            source  price  \\\n",
       "0      0.44     Lyft  1544952607890  North Station  Haymarket Square    5.0   \n",
       "1      0.44     Lyft  1543284023677  North Station  Haymarket Square   11.0   \n",
       "1      0.44     Lyft  1543284023677  North Station  Haymarket Square   11.0   \n",
       "\n",
       "   surge_multiplier                                    id    product_id  \\\n",
       "0               1.0  424553bb-7174-41ea-aeb4-fe06d4f4b9d7     lyft_line   \n",
       "1               1.0  4bd23055-6827-41c6-b23b-3c491f24e74d  lyft_premier   \n",
       "1               1.0  4bd23055-6827-41c6-b23b-3c491f24e74d  lyft_premier   \n",
       "\n",
       "     name  ... clouds pressure    rain  time_stamp_w  humidity   wind  \\\n",
       "0  Shared  ...   0.29  1022.25  0.0000  1.544954e+09      0.76   7.68   \n",
       "1     Lux  ...   1.00  1003.17  0.1123  1.543285e+09      0.90  13.69   \n",
       "1     Lux  ...   0.99  1002.59  0.0997  1.543287e+09      0.89  11.57   \n",
       "\n",
       "        time_source_w                    merge_idx_w  day  hour  \n",
       "0 2018-12-16 09:45:01  Haymarket Square 2018-12-16 9  6.0   9.0  \n",
       "1 2018-11-27 02:15:20  Haymarket Square 2018-11-27 2  1.0   2.0  \n",
       "1 2018-11-27 02:45:20  Haymarket Square 2018-11-27 2  1.0   2.0  \n",
       "\n",
       "[3 rows x 24 columns]"
      ]
     },
     "execution_count": 13,
     "metadata": {},
     "output_type": "execute_result"
    }
   ],
   "source": [
    "cabs_wea_df.head(3)"
   ]
  },
  {
   "cell_type": "code",
   "execution_count": 25,
   "metadata": {},
   "outputs": [
    {
     "data": {
      "text/plain": [
       "Black           101102\n",
       "UberXL          100859\n",
       "Black SUV       100795\n",
       "WAV             100615\n",
       "UberPool        100402\n",
       "UberX           100105\n",
       "Lyft             93886\n",
       "Shared           93762\n",
       "Lux              93562\n",
       "Lux Black        93533\n",
       "Lyft XL          93387\n",
       "Lux Black XL     92988\n",
       "Name: name, dtype: int64"
      ]
     },
     "execution_count": 25,
     "metadata": {},
     "output_type": "execute_result"
    }
   ],
   "source": [
    "cabs_wea_df['name'].value_counts()"
   ]
  },
  {
   "cell_type": "markdown",
   "metadata": {},
   "source": [
    "First I will explore a model to predict price of a generic cab ride (UberX) based only day of week, time of day, distance, & weather conditions."
   ]
  },
  {
   "cell_type": "code",
   "execution_count": 37,
   "metadata": {},
   "outputs": [
    {
     "data": {
      "text/plain": [
       "distance    1164975\n",
       "clouds      1164975\n",
       "pressure    1164975\n",
       "rain        1164975\n",
       "humidity    1164975\n",
       "wind        1164975\n",
       "day         1164975\n",
       "hour        1164975\n",
       "dtype: int64"
      ]
     },
     "execution_count": 37,
     "metadata": {},
     "output_type": "execute_result"
    }
   ],
   "source": [
    "# Focusing the classification & prediction for 'UberX' and surge multiplier < 3. Only 3 patterns with surge_multiplier > 3.\n",
    "X = cabs_wea_df[cabs_wea_df.surge_multiplier < 3][['distance','clouds','pressure','rain','humidity','wind','day','hour']]\n",
    "X.count()"
   ]
  },
  {
   "cell_type": "markdown",
   "metadata": {},
   "source": [
    "### Normalizing & standardizing data"
   ]
  },
  {
   "cell_type": "code",
   "execution_count": 52,
   "metadata": {},
   "outputs": [
    {
     "data": {
      "text/plain": [
       "(array([0, 1, 2, 3, 4, 6], dtype=int64),\n",
       " array([1126594,   20203,    9384,    4538,    4013,     243], dtype=int64))"
      ]
     },
     "execution_count": 52,
     "metadata": {},
     "output_type": "execute_result"
    }
   ],
   "source": [
    "# convert \n",
    "feat = pd.get_dummies(X)\n",
    "\n",
    "# Focusing the classification & prediction for 'UberX' and surge multiplier < 3. Only 3 patterns with surge_multiplier > 3.\n",
    "\n",
    "Y = cabs_wea_df[cabs_wea_df.surge_multiplier < 3]['surge_multiplier']\n",
    "\n",
    "# convert to surge multiplier data to classes\n",
    "from sklearn.preprocessing import LabelEncoder\n",
    "\n",
    "le = LabelEncoder()\n",
    "le.fit([1,1.25,1.5,1.75,2.,2.25,2.5])\n",
    "Y = le.transform(Y)\n",
    "\n",
    "feat_list = list(feat.columns)\n",
    "\n",
    "#The classes in the surge_multiplier \n",
    "np.unique(Y, return_counts = True)"
   ]
  },
  {
   "cell_type": "code",
   "execution_count": 39,
   "metadata": {},
   "outputs": [
    {
     "data": {
      "text/plain": [
       "array([[0.05357143, 0.29      , 0.72541071, 0.        , 0.57407407,\n",
       "        0.41307993, 1.        , 0.39130435],\n",
       "       [0.05357143, 1.        , 0.31832729, 0.14384527, 0.83333333,\n",
       "        0.7490218 , 0.16666667, 0.08695652],\n",
       "       [0.05357143, 0.99      , 0.30595263, 0.1277059 , 0.81481481,\n",
       "        0.63051984, 0.16666667, 0.08695652],\n",
       "       [0.05357143, 0.        , 0.54320461, 0.        , 0.46296296,\n",
       "        0.27724986, 0.66666667, 0.17391304],\n",
       "       [0.05357143, 0.42      , 0.22167698, 0.        , 0.48148148,\n",
       "        0.61542761, 0.5       , 0.13043478]])"
      ]
     },
     "execution_count": 39,
     "metadata": {},
     "output_type": "execute_result"
    }
   ],
   "source": [
    "from sklearn.preprocessing import MinMaxScaler, LabelBinarizer\n",
    "\n",
    "# converting to arrays\n",
    "classes = np.array(Y)\n",
    "feat = np.array(feat)\n",
    "\n",
    "# scaling \n",
    "feat_scaled = MinMaxScaler().fit_transform(feat)\n",
    "\n",
    "#Y_scaled = Y/(Y.max()) \n",
    "feat_scaled[0:5,]\n"
   ]
  },
  {
   "cell_type": "markdown",
   "metadata": {},
   "source": [
    "## Model Building"
   ]
  },
  {
   "cell_type": "code",
   "execution_count": 71,
   "metadata": {},
   "outputs": [],
   "source": [
    "from sklearn.model_selection import train_test_split\n",
    "\n",
    "validation_size = 0.20\n",
    "seed = 7\n",
    "X_train, X_validation, Y_train, Y_validation = train_test_split(feat_scaled, classes, \n",
    "                                                                test_size=validation_size, random_state=seed)\n"
   ]
  },
  {
   "cell_type": "markdown",
   "metadata": {},
   "source": [
    "### Basic MLP without regularization or K Fold CV"
   ]
  },
  {
   "cell_type": "code",
   "execution_count": 53,
   "metadata": {},
   "outputs": [
    {
     "name": "stdout",
     "output_type": "stream",
     "text": [
      "Train on 931980 samples, validate on 232995 samples\n",
      "Epoch 1/20\n",
      "931980/931980 [==============================] - 31s 33us/step - loss: 0.1877 - sparse_categorical_accuracy: 0.9670 - val_loss: 0.1848 - val_sparse_categorical_accuracy: 0.9670\n",
      "Epoch 2/20\n",
      "931980/931980 [==============================] - 29s 31us/step - loss: 0.1864 - sparse_categorical_accuracy: 0.9671 - val_loss: 0.1854 - val_sparse_categorical_accuracy: 0.9670\n",
      "Epoch 3/20\n",
      "931980/931980 [==============================] - 28s 30us/step - loss: 0.1885 - sparse_categorical_accuracy: 0.9671 - val_loss: 0.2595 - val_sparse_categorical_accuracy: 0.9670\n",
      "Epoch 4/20\n",
      "931980/931980 [==============================] - 30s 33us/step - loss: 0.1889 - sparse_categorical_accuracy: 0.9671 - val_loss: 0.1851 - val_sparse_categorical_accuracy: 0.9670\n",
      "Epoch 5/20\n",
      "931980/931980 [==============================] - 25s 27us/step - loss: 0.1875 - sparse_categorical_accuracy: 0.9671 - val_loss: 0.2175 - val_sparse_categorical_accuracy: 0.9670\n",
      "Epoch 6/20\n",
      "931980/931980 [==============================] - 27s 29us/step - loss: 0.1918 - sparse_categorical_accuracy: 0.9671 - val_loss: 0.1945 - val_sparse_categorical_accuracy: 0.9670\n",
      "Epoch 7/20\n",
      "931980/931980 [==============================] - 24s 26us/step - loss: 0.1916 - sparse_categorical_accuracy: 0.9671 - val_loss: 0.1862 - val_sparse_categorical_accuracy: 0.9670\n",
      "Epoch 8/20\n",
      "931980/931980 [==============================] - 24s 25us/step - loss: 0.5180 - sparse_categorical_accuracy: 0.9671 - val_loss: 0.5320 - val_sparse_categorical_accuracy: 0.9670\n",
      "Epoch 9/20\n",
      "931980/931980 [==============================] - 19s 20us/step - loss: 0.5308 - sparse_categorical_accuracy: 0.9671 - val_loss: 0.5320 - val_sparse_categorical_accuracy: 0.9670\n",
      "Epoch 10/20\n",
      "931980/931980 [==============================] - 24s 26us/step - loss: 0.5308 - sparse_categorical_accuracy: 0.9671 - val_loss: 0.5320 - val_sparse_categorical_accuracy: 0.9670\n",
      "Epoch 11/20\n",
      "931980/931980 [==============================] - 25s 27us/step - loss: 0.5308 - sparse_categorical_accuracy: 0.9671 - val_loss: 0.5320 - val_sparse_categorical_accuracy: 0.9670\n",
      "Epoch 12/20\n",
      "931980/931980 [==============================] - 22s 23us/step - loss: 0.5308 - sparse_categorical_accuracy: 0.9671 - val_loss: 0.5320 - val_sparse_categorical_accuracy: 0.9670\n",
      "Epoch 13/20\n",
      "931980/931980 [==============================] - 27s 29us/step - loss: 0.5308 - sparse_categorical_accuracy: 0.9671 - val_loss: 0.5320 - val_sparse_categorical_accuracy: 0.9670\n",
      "Epoch 14/20\n",
      "931980/931980 [==============================] - 26s 28us/step - loss: 0.5308 - sparse_categorical_accuracy: 0.9671 - val_loss: 0.5320 - val_sparse_categorical_accuracy: 0.9670\n",
      "Epoch 15/20\n",
      "931980/931980 [==============================] - 26s 28us/step - loss: 0.5308 - sparse_categorical_accuracy: 0.9671 - val_loss: 0.5320 - val_sparse_categorical_accuracy: 0.9670\n",
      "Epoch 16/20\n",
      "931980/931980 [==============================] - 28s 30us/step - loss: 0.5308 - sparse_categorical_accuracy: 0.9671 - val_loss: 0.5320 - val_sparse_categorical_accuracy: 0.9670\n",
      "Epoch 17/20\n",
      "931980/931980 [==============================] - 29s 32us/step - loss: 0.5308 - sparse_categorical_accuracy: 0.9671 - val_loss: 0.5320 - val_sparse_categorical_accuracy: 0.9670\n",
      "Epoch 18/20\n",
      "931980/931980 [==============================] - 31s 34us/step - loss: 0.5308 - sparse_categorical_accuracy: 0.9671 - val_loss: 0.5320 - val_sparse_categorical_accuracy: 0.9670\n",
      "Epoch 19/20\n",
      "931980/931980 [==============================] - 27s 29us/step - loss: 0.5308 - sparse_categorical_accuracy: 0.9671 - val_loss: 0.5320 - val_sparse_categorical_accuracy: 0.9670\n",
      "Epoch 20/20\n",
      "931980/931980 [==============================] - 23s 24us/step - loss: 0.5308 - sparse_categorical_accuracy: 0.9671 - val_loss: 0.5320 - val_sparse_categorical_accuracy: 0.9670\n"
     ]
    },
    {
     "data": {
      "image/png": "[encoded data removed]",
      "text/plain": [
       "<Figure size 432x288 with 1 Axes>"
      ]
     },
     "metadata": {
      "needs_background": "light"
     },
     "output_type": "display_data"
    },
    {
     "data": {
      "image/png": "[encoded data removed]",
      "text/plain": [
       "<Figure size 432x288 with 1 Axes>"
      ]
     },
     "metadata": {
      "needs_background": "light"
     },
     "output_type": "display_data"
    }
   ],
   "source": [
    "# Basic MLP without regularization or K Fold CV\n",
    "from keras.models import Sequential\n",
    "from keras.layers import Dense, BatchNormalization\n",
    "from keras import optimizers\n",
    "import matplotlib.pyplot as plt\n",
    "\n",
    "\n",
    "# model definition\n",
    "model = Sequential()\n",
    "model.add(Dense(16, input_dim = 8, kernel_initializer = 'normal', activation='relu'))\n",
    "model.add(BatchNormalization())\n",
    "model.add(Dense(32, kernel_initializer = 'normal', activation='relu', use_bias=False))\n",
    "model.add(BatchNormalization())\n",
    "model.add(Dense(16, kernel_initializer = 'normal',  activation='relu', use_bias=False))\n",
    "model.add(BatchNormalization())\n",
    "model.add(Dense(8, kernel_initializer = 'normal', activation='relu', use_bias=False))\n",
    "\n",
    "model.add(Dense(7, kernel_initializer = 'normal', activation='softmax'))\n",
    "\n",
    "rmsp = optimizers.RMSprop(lr=0.01, rho=0.9)\n",
    "# Compilation\n",
    "\n",
    "# Using 'sparse categorical crossentropy' as loss fn as the input classes is an integer vector and not binary arrays\n",
    "model.compile(loss='sparse_categorical_crossentropy', optimizer = rmsp, metrics = ['sparse_categorical_accuracy'])\n",
    "\n",
    "history = model.fit(X_train, Y_train, validation_data=(X_validation,Y_validation), epochs=20, batch_size = 128)\n",
    "\n",
    "# plot accuracy\n",
    "plt.plot(history.history['sparse_categorical_accuracy'])\n",
    "plt.plot(history.history['val_sparse_categorical_accuracy'])\n",
    "plt.xlabel('epoch')\n",
    "plt.ylabel('accuracy')\n",
    "plt.legend(['train', 'test'], loc='upper left')\n",
    "plt.show()\n",
    "\n",
    "# plot loss\n",
    "plt.plot(history.history['loss'])\n",
    "plt.plot(history.history['val_loss'])\n",
    "plt.xlabel('epoch')\n",
    "plt.ylabel('loss')\n",
    "plt.legend(['train', 'test'], loc='upper left')\n",
    "plt.show()\n"
   ]
  },
  {
   "cell_type": "markdown",
   "metadata": {},
   "source": [
    "### Model with regularization"
   ]
  },
  {
   "cell_type": "code",
   "execution_count": 49,
   "metadata": {},
   "outputs": [
    {
     "name": "stdout",
     "output_type": "stream",
     "text": [
      "Train on 931980 samples, validate on 232995 samples\n",
      "Epoch 1/20\n",
      "931980/931980 [==============================] - 23s 25us/step - loss: 0.1898 - sparse_categorical_accuracy: 0.9669 - val_loss: 0.1889 - val_sparse_categorical_accuracy: 0.9670\n",
      "Epoch 2/20\n",
      "931980/931980 [==============================] - 24s 25us/step - loss: 0.1866 - sparse_categorical_accuracy: 0.9671 - val_loss: 0.1921 - val_sparse_categorical_accuracy: 0.9670\n",
      "Epoch 3/20\n",
      "931980/931980 [==============================] - 19s 20us/step - loss: 0.1868 - sparse_categorical_accuracy: 0.9671 - val_loss: 0.1956 - val_sparse_categorical_accuracy: 0.9670\n",
      "Epoch 4/20\n",
      "931980/931980 [==============================] - 20s 21us/step - loss: 0.1865 - sparse_categorical_accuracy: 0.9671 - val_loss: 0.1916 - val_sparse_categorical_accuracy: 0.9670\n",
      "Epoch 5/20\n",
      "931980/931980 [==============================] - 19s 21us/step - loss: 0.1865 - sparse_categorical_accuracy: 0.9671 - val_loss: 0.1887 - val_sparse_categorical_accuracy: 0.9670\n",
      "Epoch 6/20\n",
      "931980/931980 [==============================] - 18s 19us/step - loss: 0.1863 - sparse_categorical_accuracy: 0.9671 - val_loss: 0.2344 - val_sparse_categorical_accuracy: 0.9670\n",
      "Epoch 7/20\n",
      "931980/931980 [==============================] - 22s 24us/step - loss: 0.1864 - sparse_categorical_accuracy: 0.9671 - val_loss: 0.1915 - val_sparse_categorical_accuracy: 0.9670\n",
      "Epoch 8/20\n",
      "931980/931980 [==============================] - 25s 27us/step - loss: 0.1864 - sparse_categorical_accuracy: 0.9671 - val_loss: 0.2061 - val_sparse_categorical_accuracy: 0.9670\n",
      "Epoch 9/20\n",
      "931980/931980 [==============================] - 22s 24us/step - loss: 0.1864 - sparse_categorical_accuracy: 0.9671 - val_loss: 0.1870 - val_sparse_categorical_accuracy: 0.9670\n",
      "Epoch 10/20\n",
      "931980/931980 [==============================] - 27s 29us/step - loss: 0.1863 - sparse_categorical_accuracy: 0.9671 - val_loss: 0.1894 - val_sparse_categorical_accuracy: 0.9670\n",
      "Epoch 11/20\n",
      "931980/931980 [==============================] - 23s 24us/step - loss: 0.1863 - sparse_categorical_accuracy: 0.9671 - val_loss: 0.2342 - val_sparse_categorical_accuracy: 0.9670\n",
      "Epoch 12/20\n",
      "931980/931980 [==============================] - 23s 25us/step - loss: 0.1862 - sparse_categorical_accuracy: 0.9671 - val_loss: 0.1875 - val_sparse_categorical_accuracy: 0.9670\n",
      "Epoch 13/20\n",
      "931980/931980 [==============================] - 23s 24us/step - loss: 0.1861 - sparse_categorical_accuracy: 0.9671 - val_loss: 0.1854 - val_sparse_categorical_accuracy: 0.9670\n",
      "Epoch 14/20\n",
      "931980/931980 [==============================] - 25s 26us/step - loss: 0.1863 - sparse_categorical_accuracy: 0.9671 - val_loss: 1.3944 - val_sparse_categorical_accuracy: 0.6985\n",
      "Epoch 15/20\n",
      "931980/931980 [==============================] - 22s 24us/step - loss: 0.1862 - sparse_categorical_accuracy: 0.9671 - val_loss: 0.3871 - val_sparse_categorical_accuracy: 0.9291\n",
      "Epoch 16/20\n",
      "931980/931980 [==============================] - 23s 25us/step - loss: 0.1862 - sparse_categorical_accuracy: 0.9671 - val_loss: 0.1871 - val_sparse_categorical_accuracy: 0.9670\n",
      "Epoch 17/20\n",
      "931980/931980 [==============================] - 22s 24us/step - loss: 0.1863 - sparse_categorical_accuracy: 0.9671 - val_loss: 0.1874 - val_sparse_categorical_accuracy: 0.9670\n",
      "Epoch 18/20\n",
      "931980/931980 [==============================] - 23s 25us/step - loss: 0.1864 - sparse_categorical_accuracy: 0.9671 - val_loss: 0.1933 - val_sparse_categorical_accuracy: 0.9670\n",
      "Epoch 19/20\n",
      "931980/931980 [==============================] - 23s 25us/step - loss: 0.1862 - sparse_categorical_accuracy: 0.9671 - val_loss: 0.2043 - val_sparse_categorical_accuracy: 0.9670\n",
      "Epoch 20/20\n",
      "931980/931980 [==============================] - 23s 25us/step - loss: 0.1863 - sparse_categorical_accuracy: 0.9671 - val_loss: 0.2107 - val_sparse_categorical_accuracy: 0.9670\n"
     ]
    },
    {
     "data": {
      "image/png": "[encoded data removed]",
      "text/plain": [
       "<Figure size 432x288 with 1 Axes>"
      ]
     },
     "metadata": {
      "needs_background": "light"
     },
     "output_type": "display_data"
    },
    {
     "data": {
      "image/png": "[encoded data removed]",
      "text/plain": [
       "<Figure size 432x288 with 1 Axes>"
      ]
     },
     "metadata": {
      "needs_background": "light"
     },
     "output_type": "display_data"
    }
   ],
   "source": [
    "# Model with regularization\n",
    "\n",
    "from keras.models import Sequential\n",
    "from keras.layers import Dense, BatchNormalization\n",
    "from keras import optimizers\n",
    "from keras import regularizers\n",
    "import matplotlib.pyplot as plt\n",
    "\n",
    "l2_reg = regularizers.l2(.01)\n",
    "\n",
    "# model definition with regularization\n",
    "model = Sequential()\n",
    "model.add(Dense(16, input_dim = 8, kernel_initializer = 'normal', activation='relu'))\n",
    "model.add(BatchNormalization())\n",
    "model.add(Dense(32, kernel_initializer = 'normal', kernel_regularizer=l2_reg, activation='relu', use_bias=False))\n",
    "model.add(BatchNormalization())\n",
    "model.add(Dense(16, kernel_initializer = 'normal', kernel_regularizer=l2_reg, activation='relu', use_bias=False))\n",
    "model.add(BatchNormalization())\n",
    "model.add(Dense(8, kernel_initializer = 'normal', kernel_regularizer=l2_reg, activation='relu', use_bias=False))\n",
    "\n",
    "model.add(Dense(7, kernel_initializer = 'normal', activation='softmax'))\n",
    "\n",
    "sgd = optimizers.SGD(lr=0.01, decay=1e-06, momentum=0.9, nesterov=True)\n",
    "rmsp = optimizers.RMSprop(lr=0.01, rho=0.9)\n",
    "# Compilation\n",
    "\n",
    "# Using 'sparse categorical crossentropy' as loss fn as the input classes is an integer vector and not binary arrays\n",
    "model.compile(loss='sparse_categorical_crossentropy', optimizer = rmsp, metrics = ['sparse_categorical_accuracy'])\n",
    "\n",
    "history = model.fit(X_train, Y_train, validation_data=(X_validation,Y_validation), epochs=20, batch_size = 128)\n",
    "\n",
    "# plot accuracy\n",
    "plt.plot(history.history['sparse_categorical_accuracy'])\n",
    "plt.plot(history.history['val_sparse_categorical_accuracy'])\n",
    "plt.xlabel('epoch')\n",
    "plt.ylabel('accuracy')\n",
    "plt.legend(['train', 'test'], loc='upper left')\n",
    "plt.show()\n",
    "\n",
    "# plot loss\n",
    "plt.plot(history.history['loss'])\n",
    "plt.plot(history.history['val_loss'])\n",
    "plt.xlabel('epoch')\n",
    "plt.ylabel('loss')\n",
    "plt.legend(['train', 'test'], loc='upper left')\n",
    "plt.show()\n"
   ]
  },
  {
   "cell_type": "markdown",
   "metadata": {},
   "source": [
    "### Model with K-fold CV & regularization"
   ]
  },
  {
   "cell_type": "code",
   "execution_count": 62,
   "metadata": {},
   "outputs": [
    {
     "data": {
      "text/plain": [
       "array([1., 0., 0., 0., 0., 0., 0.], dtype=float32)"
      ]
     },
     "execution_count": 62,
     "metadata": {},
     "output_type": "execute_result"
    }
   ],
   "source": [
    "# converting classes to onehot encoded format to address issue with CV function taking only accuracy as a metric \n",
    "# and not sparse_categorical_accuracy\n",
    "from keras.utils import to_categorical\n",
    "classes_encoded = to_categorical(classes)\n",
    "\n",
    "classes_encoded[3,]\n"
   ]
  },
  {
   "cell_type": "code",
   "execution_count": 64,
   "metadata": {},
   "outputs": [
    {
     "name": "stdout",
     "output_type": "stream",
     "text": [
      "Epoch 1/10\n",
      "1048477/1048477 [==============================] - 14s 13us/step - loss: 0.1971 - accuracy: 0.9668\n",
      "Epoch 2/10\n",
      "1048477/1048477 [==============================] - 12s 11us/step - loss: 0.1842 - accuracy: 0.9673\n",
      "Epoch 3/10\n",
      "1048477/1048477 [==============================] - 12s 12us/step - loss: 0.1839 - accuracy: 0.9673\n",
      "Epoch 4/10\n",
      "1048477/1048477 [==============================] - 12s 11us/step - loss: 0.1840 - accuracy: 0.9673\n",
      "Epoch 5/10\n",
      "1048477/1048477 [==============================] - 12s 11us/step - loss: 0.1840 - accuracy: 0.9673\n",
      "Epoch 6/10\n",
      "1048477/1048477 [==============================] - 12s 12us/step - loss: 0.1841 - accuracy: 0.9673\n",
      "Epoch 7/10\n",
      "1048477/1048477 [==============================] - 14s 13us/step - loss: 0.1840 - accuracy: 0.9673\n",
      "Epoch 8/10\n",
      "1048477/1048477 [==============================] - 13s 12us/step - loss: 0.1840 - accuracy: 0.9673\n",
      "Epoch 9/10\n",
      "1048477/1048477 [==============================] - 12s 12us/step - loss: 0.1840 - accuracy: 0.9673\n",
      "Epoch 10/10\n",
      "1048477/1048477 [==============================] - 12s 12us/step - loss: 0.1840 - accuracy: 0.9673\n",
      "116498/116498 [==============================] - 1s 7us/step\n",
      "Epoch 1/10\n",
      "1048477/1048477 [==============================] - 14s 13us/step - loss: 0.1954 - accuracy: 0.9669\n",
      "Epoch 2/10\n",
      "1048477/1048477 [==============================] - 15s 14us/step - loss: 0.1845 - accuracy: 0.9671\n",
      "Epoch 3/10\n",
      "1048477/1048477 [==============================] - 13s 13us/step - loss: 0.1846 - accuracy: 0.9671\n",
      "Epoch 4/10\n",
      "1048477/1048477 [==============================] - 12s 12us/step - loss: 0.1845 - accuracy: 0.9671\n",
      "Epoch 5/10\n",
      "1048477/1048477 [==============================] - 13s 13us/step - loss: 0.1844 - accuracy: 0.9671\n",
      "Epoch 6/10\n",
      "1048477/1048477 [==============================] - 14s 13us/step - loss: 0.1843 - accuracy: 0.9671\n",
      "Epoch 7/10\n",
      "1048477/1048477 [==============================] - 14s 14us/step - loss: 0.1845 - accuracy: 0.9671\n",
      "Epoch 8/10\n",
      "1048477/1048477 [==============================] - 13s 13us/step - loss: 0.1844 - accuracy: 0.9671\n",
      "Epoch 9/10\n",
      "1048477/1048477 [==============================] - 13s 12us/step - loss: 0.1845 - accuracy: 0.9671\n",
      "Epoch 10/10\n",
      "1048477/1048477 [==============================] - 14s 13us/step - loss: 0.1844 - accuracy: 0.9671\n",
      "116498/116498 [==============================] - 1s 11us/step\n",
      "Epoch 1/10\n",
      "1048477/1048477 [==============================] - 15s 14us/step - loss: 0.1970 - accuracy: 0.9665\n",
      "Epoch 2/10\n",
      "1048477/1048477 [==============================] - 14s 13us/step - loss: 0.1857 - accuracy: 0.9669\n",
      "Epoch 3/10\n",
      "1048477/1048477 [==============================] - 15s 14us/step - loss: 0.1857 - accuracy: 0.9669\n",
      "Epoch 4/10\n",
      "1048477/1048477 [==============================] - 14s 13us/step - loss: 0.1856 - accuracy: 0.9669\n",
      "Epoch 5/10\n",
      "1048477/1048477 [==============================] - 13s 13us/step - loss: 0.1856 - accuracy: 0.9669\n",
      "Epoch 6/10\n",
      "1048477/1048477 [==============================] - 15s 14us/step - loss: 0.1856 - accuracy: 0.9669\n",
      "Epoch 7/10\n",
      "1048477/1048477 [==============================] - 14s 13us/step - loss: 0.1857 - accuracy: 0.9669\n",
      "Epoch 8/10\n",
      "1048477/1048477 [==============================] - ETA: 0s - loss: 0.1855 - accuracy: 0.9669 ETA: 0s - loss: 0.1856 - accuracy:  - ETA: 0s - loss: 0.1856 -  - ETA: 0s - loss: 0.1854 - ac - 14s 13us/step - loss: 0.1855 - accuracy: 0.9669\n",
      "Epoch 9/10\n",
      "1048477/1048477 [==============================] - 15s 14us/step - loss: 0.1855 - accuracy: 0.9669\n",
      "Epoch 10/10\n",
      "1048477/1048477 [==============================] - 14s 13us/step - loss: 0.1856 - accuracy: 0.9669\n",
      "116498/116498 [==============================] - 1s 9us/step\n",
      "Epoch 1/10\n",
      "1048477/1048477 [==============================] - 14s 14us/step - loss: 0.1961 - accuracy: 0.9667\n",
      "Epoch 2/10\n",
      "1048477/1048477 [==============================] - 14s 13us/step - loss: 0.1855 - accuracy: 0.9670\n",
      "Epoch 3/10\n",
      "1048477/1048477 [==============================] - 14s 13us/step - loss: 0.1853 - accuracy: 0.9670\n",
      "Epoch 4/10\n",
      "1048477/1048477 [==============================] - 14s 13us/step - loss: 0.1851 - accuracy: 0.9670\n",
      "Epoch 5/10\n",
      "1048477/1048477 [==============================] - 12s 11us/step - loss: 0.1851 - accuracy: 0.9670\n",
      "Epoch 6/10\n",
      "1048477/1048477 [==============================] - 14s 13us/step - loss: 0.1851 - accuracy: 0.9670\n",
      "Epoch 7/10\n",
      "1048477/1048477 [==============================] - 14s 13us/step - loss: 0.1851 - accuracy: 0.9670\n",
      "Epoch 8/10\n",
      "1048477/1048477 [==============================] - 14s 14us/step - loss: 0.1850 - accuracy: 0.9670\n",
      "Epoch 9/10\n",
      "1048477/1048477 [==============================] - 13s 13us/step - loss: 0.1850 - accuracy: 0.9670\n",
      "Epoch 10/10\n",
      "1048477/1048477 [==============================] - 15s 15us/step - loss: 0.1851 - accuracy: 0.9670\n",
      "116498/116498 [==============================] - 1s 12us/step\n",
      "Epoch 1/10\n",
      "1048477/1048477 [==============================] - 17s 16us/step - loss: 0.1961 - accuracy: 0.9667\n",
      "Epoch 2/10\n",
      "1048477/1048477 [==============================] - 12s 11us/step - loss: 0.1851 - accuracy: 0.9671\n",
      "Epoch 3/10\n",
      "1048477/1048477 [==============================] - 12s 11us/step - loss: 0.1849 - accuracy: 0.9671\n",
      "Epoch 4/10\n",
      "1048477/1048477 [==============================] - 13s 12us/step - loss: 0.1847 - accuracy: 0.9671\n",
      "Epoch 5/10\n",
      "1048477/1048477 [==============================] - 13s 13us/step - loss: 0.1846 - accuracy: 0.9671\n",
      "Epoch 6/10\n",
      "1048477/1048477 [==============================] - 14s 13us/step - loss: 0.1846 - accuracy: 0.9671\n",
      "Epoch 7/10\n",
      "1048477/1048477 [==============================] - 15s 15us/step - loss: 0.1847 - accuracy: 0.9671\n",
      "Epoch 8/10\n",
      "1048477/1048477 [==============================] - 17s 16us/step - loss: 0.1847 - accuracy: 0.9671\n",
      "Epoch 9/10\n",
      "1048477/1048477 [==============================] - 16s 15us/step - loss: 0.1847 - accuracy: 0.9671\n",
      "Epoch 10/10\n",
      "1048477/1048477 [==============================] - 15s 15us/step - loss: 0.1846 - accuracy: 0.9671\n",
      "116498/116498 [==============================] - 1s 12us/step\n",
      "Epoch 1/10\n",
      "1048478/1048478 [==============================] - 18s 17us/step - loss: 0.1958 - accuracy: 0.9666\n",
      "Epoch 2/10\n",
      "1048478/1048478 [==============================] - 16s 15us/step - loss: 0.1848 - accuracy: 0.9670\n",
      "Epoch 3/10\n",
      "1048478/1048478 [==============================] - 16s 16us/step - loss: 0.1848 - accuracy: 0.9670\n",
      "Epoch 4/10\n",
      "1048478/1048478 [==============================] - 18s 17us/step - loss: 0.1847 - accuracy: 0.9670\n",
      "Epoch 5/10\n",
      "1048478/1048478 [==============================] - 17s 16us/step - loss: 0.1847 - accuracy: 0.9670\n",
      "Epoch 6/10\n",
      "1048478/1048478 [==============================] - 16s 15us/step - loss: 0.1848 - accuracy: 0.9670\n",
      "Epoch 7/10\n",
      "1048478/1048478 [==============================] - 12s 12us/step - loss: 0.1848 - accuracy: 0.9670\n",
      "Epoch 8/10\n",
      "1048478/1048478 [==============================] - 13s 12us/step - loss: 0.1848 - accuracy: 0.9670\n",
      "Epoch 9/10\n",
      "1048478/1048478 [==============================] - 13s 12us/step - loss: 0.1849 - accuracy: 0.9670\n",
      "Epoch 10/10\n",
      "1048478/1048478 [==============================] - 14s 14us/step - loss: 0.1848 - accuracy: 0.9670\n",
      "116497/116497 [==============================] - 1s 11us/step\n",
      "Epoch 1/10\n",
      "1048478/1048478 [==============================] - 15s 14us/step - loss: 0.1970 - accuracy: 0.9665\n",
      "Epoch 2/10\n",
      "1048478/1048478 [==============================] - 19s 18us/step - loss: 0.1860 - accuracy: 0.9668\n",
      "Epoch 3/10\n",
      "1048478/1048478 [==============================] - 19s 18us/step - loss: 0.1857 - accuracy: 0.9668\n",
      "Epoch 4/10\n",
      "1048478/1048478 [==============================] - 21s 20us/step - loss: 0.1856 - accuracy: 0.9668\n",
      "Epoch 5/10\n",
      "1048478/1048478 [==============================] - 18s 17us/step - loss: 0.1857 - accuracy: 0.9668\n",
      "Epoch 6/10\n",
      "1048478/1048478 [==============================] - 21s 20us/step - loss: 0.1858 - accuracy: 0.9668\n",
      "Epoch 7/10\n",
      "1048478/1048478 [==============================] - 21s 20us/step - loss: 0.1858 - accuracy: 0.9668\n",
      "Epoch 8/10\n",
      "1048478/1048478 [==============================] - 17s 17us/step - loss: 0.1858 - accuracy: 0.9668\n",
      "Epoch 9/10\n",
      "1048478/1048478 [==============================] - 18s 18us/step - loss: 0.1857 - accuracy: 0.9668\n",
      "Epoch 10/10\n",
      "1048478/1048478 [==============================] - 17s 16us/step - loss: 0.1857 - accuracy: 0.9668\n",
      "116497/116497 [==============================] - 1s 12us/step\n",
      "Epoch 1/10\n",
      "1048478/1048478 [==============================] - 18s 17us/step - loss: 0.1968 - accuracy: 0.9666\n",
      "Epoch 2/10\n",
      "1048478/1048478 [==============================] - 18s 17us/step - loss: 0.1854 - accuracy: 0.9671\n",
      "Epoch 3/10\n",
      "1048478/1048478 [==============================] - 17s 17us/step - loss: 0.1853 - accuracy: 0.9671\n",
      "Epoch 4/10\n",
      "1048478/1048478 [==============================] - 18s 17us/step - loss: 0.1853 - accuracy: 0.9671\n",
      "Epoch 5/10\n",
      "1048478/1048478 [==============================] - 17s 17us/step - loss: 0.1853 - accuracy: 0.9671\n",
      "Epoch 6/10\n",
      "1048478/1048478 [==============================] - 17s 16us/step - loss: 0.1852 - accuracy: 0.9671\n",
      "Epoch 7/10\n",
      "1048478/1048478 [==============================] - 18s 17us/step - loss: 0.1851 - accuracy: 0.9671\n",
      "Epoch 8/10\n",
      "1048478/1048478 [==============================] - 19s 18us/step - loss: 0.1851 - accuracy: 0.9671\n",
      "Epoch 9/10\n",
      "1048478/1048478 [==============================] - 19s 18us/step - loss: 0.1850 - accuracy: 0.9671\n",
      "Epoch 10/10\n",
      "1048478/1048478 [==============================] - 18s 17us/step - loss: 0.1851 - accuracy: 0.9671\n",
      "116497/116497 [==============================] - 2s 17us/step\n",
      "Epoch 1/10\n",
      "1048478/1048478 [==============================] - 21s 20us/step - loss: 0.1949 - accuracy: 0.9669\n",
      "Epoch 2/10\n",
      "1048478/1048478 [==============================] - 18s 17us/step - loss: 0.1837 - accuracy: 0.9673\n",
      "Epoch 3/10\n",
      "1048478/1048478 [==============================] - 18s 17us/step - loss: 0.1836 - accuracy: 0.9673\n",
      "Epoch 4/10\n",
      "1048478/1048478 [==============================] - 18s 18us/step - loss: 0.1837 - accuracy: 0.9673\n",
      "Epoch 5/10\n",
      "1048478/1048478 [==============================] - 18s 17us/step - loss: 0.1838 - accuracy: 0.9673\n",
      "Epoch 6/10\n",
      "1048478/1048478 [==============================] - 17s 16us/step - loss: 0.1838 - accuracy: 0.9673\n",
      "Epoch 7/10\n",
      "1048478/1048478 [==============================] - 18s 17us/step - loss: 0.1836 - accuracy: 0.9673\n",
      "Epoch 8/10\n",
      "1048478/1048478 [==============================] - 16s 15us/step - loss: 0.1838 - accuracy: 0.9673\n",
      "Epoch 9/10\n",
      "1048478/1048478 [==============================] - 15s 15us/step - loss: 0.1837 - accuracy: 0.9673\n",
      "Epoch 10/10\n",
      "1048478/1048478 [==============================] - 16s 15us/step - loss: 0.1838 - accuracy: 0.9673\n",
      "116497/116497 [==============================] - 1s 11us/step\n",
      "Epoch 1/10\n",
      "1048478/1048478 [==============================] - 19s 18us/step - loss: 0.1974 - accuracy: 0.9664\n",
      "Epoch 2/10\n",
      "1048478/1048478 [==============================] - 20s 19us/step - loss: 0.1861 - accuracy: 0.9669\n",
      "Epoch 3/10\n",
      "1048478/1048478 [==============================] - 17s 16us/step - loss: 0.1860 - accuracy: 0.9669\n",
      "Epoch 4/10\n",
      "1048478/1048478 [==============================] - 17s 16us/step - loss: 0.1859 - accuracy: 0.9669\n",
      "Epoch 5/10\n",
      "1048478/1048478 [==============================] - 18s 17us/step - loss: 0.1858 - accuracy: 0.9669\n",
      "Epoch 6/10\n",
      "1048478/1048478 [==============================] - 17s 16us/step - loss: 0.1858 - accuracy: 0.9669\n",
      "Epoch 7/10\n",
      "1048478/1048478 [==============================] - 16s 15us/step - loss: 0.1857 - accuracy: 0.9669\n",
      "Epoch 8/10\n",
      "1048478/1048478 [==============================] - 21s 20us/step - loss: 0.1858 - accuracy: 0.9669\n",
      "Epoch 9/10\n",
      "1048478/1048478 [==============================] - 18s 18us/step - loss: 0.1858 - accuracy: 0.9669\n",
      "Epoch 10/10\n",
      "1048478/1048478 [==============================] - 19s 18us/step - loss: 0.1858 - accuracy: 0.9669\n",
      "116497/116497 [==============================] - 2s 13us/step\n"
     ]
    },
    {
     "data": {
      "text/plain": [
       "array([0.96527839, 0.96627408, 0.96860892, 0.96757025, 0.96623117,\n",
       "       0.96738112, 0.96890908, 0.96699488, 0.96490037, 0.96839404])"
      ]
     },
     "execution_count": 64,
     "metadata": {},
     "output_type": "execute_result"
    }
   ],
   "source": [
    "from sklearn.model_selection import KFold\n",
    "from sklearn.model_selection import cross_val_score\n",
    "from keras.models import Sequential\n",
    "from keras.layers import Dense, BatchNormalization\n",
    "from keras import optimizers\n",
    "from keras import regularizers\n",
    "from keras.wrappers.scikit_learn import KerasClassifier\n",
    "import matplotlib.pyplot as plt\n",
    "\n",
    "l2_reg = regularizers.l2(.01)\n",
    "def base_model():\n",
    "    # model definition\n",
    "    model = Sequential()\n",
    "    model.add(Dense(16, input_dim = 8, kernel_initializer = 'normal', activation='relu'))\n",
    "    model.add(BatchNormalization())\n",
    "    model.add(Dense(32, kernel_initializer = 'normal', kernel_regularizer=l2_reg, activation='relu', use_bias=False))\n",
    "    model.add(BatchNormalization())\n",
    "    model.add(Dense(16, kernel_initializer = 'normal', kernel_regularizer=l2_reg, activation='relu', use_bias=False))\n",
    "    model.add(BatchNormalization())\n",
    "    model.add(Dense(8, kernel_initializer = 'normal', kernel_regularizer=l2_reg, activation='relu', use_bias=False))\n",
    "    \n",
    "    model.add(Dense(7, kernel_initializer = 'normal', activation='softmax'))\n",
    "    \n",
    "    sgd = optimizers.SGD(lr=0.01, decay=1e-06, momentum=0.9, nesterov=True)\n",
    "    rmsp = optimizers.RMSprop(lr=0.01, rho=0.9)\n",
    "    # Compilation\n",
    "    model.compile(loss='categorical_crossentropy', optimizer = rmsp, metrics = ['accuracy'])\n",
    "    return model\n",
    "\n",
    "# evaluate model\n",
    "estimator = KerasClassifier(build_fn=base_model, epochs=10, batch_size = 512)\n",
    "##estimator = []\n",
    "##estimator.append(('standardize', StandardScaler()))\n",
    "##estimator.append(('baseline_model', KerasClassifier(build_fn=baseline_model, epochs=10, batch_size = 512)))\n",
    "##pipeline = Pipeline(estimator)\n",
    "\n",
    "kfold = KFold(n_splits = 10)\n",
    "# Model fitting & evaluation using k-fold CV\n",
    "result = cross_val_score(estimator, feat_scaled, classes_encoded, cv=kfold)\n",
    "\n",
    "result\n",
    "#print(\"Model with CV: %.2f & MSE %.2f\" % (result.mean(), result.std()))\n",
    "\n",
    "\n"
   ]
  },
  {
   "cell_type": "markdown",
   "metadata": {},
   "source": [
    "It can be see from above that using K-cross validation in addition to regularization, the model can perform at more than 96.5% accuracy for each of the 10 split datasets.\n"
   ]
  },
  {
   "cell_type": "markdown",
   "metadata": {},
   "source": [
    "## Models with other Optimizers"
   ]
  },
  {
   "cell_type": "code",
   "execution_count": 76,
   "metadata": {},
   "outputs": [
    {
     "name": "stdout",
     "output_type": "stream",
     "text": [
      "Train on 931980 samples, validate on 232995 samples\n",
      "Epoch 1/10\n",
      "931980/931980 [==============================] - 71s 76us/step - loss: 0.1950 - sparse_categorical_accuracy: 0.9669 - val_loss: 0.1861 - val_sparse_categorical_accuracy: 0.9670\n",
      "Epoch 2/10\n",
      "931980/931980 [==============================] - 31s 34us/step - loss: 0.1849 - sparse_categorical_accuracy: 0.9671 - val_loss: 0.1850 - val_sparse_categorical_accuracy: 0.9670\n",
      "Epoch 3/10\n",
      "931980/931980 [==============================] - 32s 35us/step - loss: 0.1849 - sparse_categorical_accuracy: 0.9671 - val_loss: 0.1873 - val_sparse_categorical_accuracy: 0.9670\n",
      "Epoch 4/10\n",
      "931980/931980 [==============================] - 40s 43us/step - loss: 0.1857 - sparse_categorical_accuracy: 0.9671 - val_loss: 0.1921 - val_sparse_categorical_accuracy: 0.9670\n",
      "Epoch 5/10\n",
      "931980/931980 [==============================] - 35s 37us/step - loss: 0.1860 - sparse_categorical_accuracy: 0.9671 - val_loss: 0.1851 - val_sparse_categorical_accuracy: 0.9670\n",
      "Epoch 6/10\n",
      "931980/931980 [==============================] - 58s 62us/step - loss: 0.1858 - sparse_categorical_accuracy: 0.9671 - val_loss: 0.1876 - val_sparse_categorical_accuracy: 0.9670\n",
      "Epoch 7/10\n",
      "931980/931980 [==============================] - 74s 79us/step - loss: 0.1858 - sparse_categorical_accuracy: 0.9671 - val_loss: 0.1874 - val_sparse_categorical_accuracy: 0.9670\n",
      "Epoch 8/10\n",
      "931980/931980 [==============================] - 74s 79us/step - loss: 0.1857 - sparse_categorical_accuracy: 0.9671 - val_loss: 0.1853 - val_sparse_categorical_accuracy: 0.9670\n",
      "Epoch 9/10\n",
      "931980/931980 [==============================] - 53s 57us/step - loss: 0.1858 - sparse_categorical_accuracy: 0.9671 - val_loss: 0.1855 - val_sparse_categorical_accuracy: 0.9670\n",
      "Epoch 10/10\n",
      "931980/931980 [==============================] - 56s 60us/step - loss: 0.1859 - sparse_categorical_accuracy: 0.9671 - val_loss: 0.1865 - val_sparse_categorical_accuracy: 0.9670\n"
     ]
    },
    {
     "data": {
      "image/png": "[encoded data removed]",
      "text/plain": [
       "<Figure size 432x288 with 1 Axes>"
      ]
     },
     "metadata": {
      "needs_background": "light"
     },
     "output_type": "display_data"
    },
    {
     "data": {
      "image/png": "[encoded data removed]",
      "text/plain": [
       "<Figure size 432x288 with 1 Axes>"
      ]
     },
     "metadata": {
      "needs_background": "light"
     },
     "output_type": "display_data"
    }
   ],
   "source": [
    "# Model with regularization and RMSProp with momentum = ADAM\n",
    "\n",
    "from keras.models import Sequential\n",
    "from keras.layers import Dense, BatchNormalization\n",
    "from keras import optimizers\n",
    "from keras import regularizers\n",
    "import matplotlib.pyplot as plt\n",
    "\n",
    "l2_reg = regularizers.l2(.01)\n",
    "\n",
    "# model definition with regularization\n",
    "model = Sequential()\n",
    "model.add(Dense(16, input_dim = 8, kernel_initializer = 'normal', activation='relu'))\n",
    "model.add(BatchNormalization())\n",
    "model.add(Dense(32, kernel_initializer = 'normal', kernel_regularizer=l2_reg, activation='relu', use_bias=False))\n",
    "model.add(BatchNormalization())\n",
    "model.add(Dense(16, kernel_initializer = 'normal', kernel_regularizer=l2_reg, activation='relu', use_bias=False))\n",
    "model.add(BatchNormalization())\n",
    "model.add(Dense(8, kernel_initializer = 'normal', kernel_regularizer=l2_reg, activation='relu', use_bias=False))\n",
    "\n",
    "model.add(Dense(7, kernel_initializer = 'normal', activation='softmax'))\n",
    "\n",
    "rmsp_momentum = optimizers.Adam(lr=0.01)\n",
    "# Compilation\n",
    "\n",
    "# Using 'sparse categorical crossentropy' as loss fn as the input classes is an integer vector and not binary arrays\n",
    "model.compile(loss='sparse_categorical_crossentropy', optimizer = rmsp_momentum, metrics = ['sparse_categorical_accuracy'])\n",
    "\n",
    "history = model.fit(X_train, Y_train, validation_data=(X_validation,Y_validation), epochs=10, batch_size = 128)\n",
    "\n",
    "# plot accuracy\n",
    "plt.plot(history.history['sparse_categorical_accuracy'])\n",
    "plt.plot(history.history['val_sparse_categorical_accuracy'])\n",
    "plt.xlabel('epoch')\n",
    "plt.ylabel('accuracy')\n",
    "plt.legend(['train', 'test'], loc='upper left')\n",
    "plt.show()\n",
    "\n",
    "# plot loss\n",
    "plt.plot(history.history['loss'])\n",
    "plt.plot(history.history['val_loss'])\n",
    "plt.xlabel('epoch')\n",
    "plt.ylabel('loss')\n",
    "plt.legend(['train', 'test'], loc='upper left')\n",
    "plt.show()\n"
   ]
  },
  {
   "cell_type": "markdown",
   "metadata": {},
   "source": [
    "Prediction probability of each class is shown below."
   ]
  },
  {
   "cell_type": "code",
   "execution_count": 51,
   "metadata": {
    "scrolled": true
   },
   "outputs": [
    {
     "data": {
      "text/plain": [
       "array([[9.9001056e-01, 8.3209891e-03, 1.4890056e-03, ..., 9.9077930e-05,\n",
       "        9.7532316e-10, 1.4353874e-09],\n",
       "       [9.9041700e-01, 8.0478797e-03, 1.3824031e-03, ..., 8.4658794e-05,\n",
       "        1.7408293e-09, 9.6660635e-10],\n",
       "       [9.9057770e-01, 7.9385843e-03, 1.3409475e-03, ..., 7.9376376e-05,\n",
       "        2.2066882e-09, 8.2205398e-10],\n",
       "       ...,\n",
       "       [9.9097532e-01, 7.6643191e-03, 1.2399760e-03, ..., 6.7259345e-05,\n",
       "        4.0580272e-09, 5.4207172e-10],\n",
       "       [9.9031562e-01, 8.1163906e-03, 1.4089760e-03, ..., 8.8124681e-05,\n",
       "        1.5051039e-09, 1.0692672e-09],\n",
       "       [9.9141371e-01, 7.3557873e-03, 1.1317792e-03, ..., 5.5435448e-05,\n",
       "        8.2785148e-09, 3.3343869e-10]], dtype=float32)"
      ]
     },
     "execution_count": 51,
     "metadata": {},
     "output_type": "execute_result"
    }
   ],
   "source": [
    "model.predict(X_train, batch_size = 128)"
   ]
  },
  {
   "cell_type": "markdown",
   "metadata": {},
   "source": [
    "## Imbalance"
   ]
  },
  {
   "cell_type": "code",
   "execution_count": null,
   "metadata": {},
   "outputs": [],
   "source": [
    "from sklearn.metrics import confusion_matrix\n",
    "#from sklearn.metrics import roc_curve\n",
    "#y_pred = model.predict(X_test).ravel()\n",
    "#fpr_keras, tpr_keras, thresholds_keras = roc_curve(y_test, y_pred_keras)\n",
    "\n",
    "y_pred = model.predict(X_validation)#, batch_size = 128)\n"
   ]
  },
  {
   "cell_type": "code",
   "execution_count": 79,
   "metadata": {},
   "outputs": [
    {
     "data": {
      "text/plain": [
       "array([[225305,      0,      0,      0,      0,      0],\n",
       "       [  4089,      0,      0,      0,      0,      0],\n",
       "       [  1868,      0,      0,      0,      0,      0],\n",
       "       [   895,      0,      0,      0,      0,      0],\n",
       "       [   789,      0,      0,      0,      0,      0],\n",
       "       [    49,      0,      0,      0,      0,      0]], dtype=int64)"
      ]
     },
     "execution_count": 79,
     "metadata": {},
     "output_type": "execute_result"
    }
   ],
   "source": [
    "confusion_matrix(Y_validation, y_pred.argmax(axis=1))"
   ]
  },
  {
   "cell_type": "markdown",
   "metadata": {},
   "source": [
    "It appears that the model predicts surge_multiplier = 1.0 most of the time i.e., with 0.99 probability. However, the data has surge_multiplier=1.0 for 96% of times.\n",
    "\n",
    "More importantly, from the confusion matrix it can be seen that the model predicts class 0 for all other classes.\n",
    "\n",
    "The reason for this skewed prediction is that the number of patterns in each class [0, 1, 2, 3, 4, 6] is [1126594, 20203, 9384, 4538, 4013, 243] respectively. It can be seen that the data is highly imbalanced. \n",
    "\n",
    "To address this deficiency purpose SMOTE will be used to generate additional data to balance the dataset.\n"
   ]
  },
  {
   "cell_type": "markdown",
   "metadata": {},
   "source": [
    "### Addressing Imbalance of classes"
   ]
  },
  {
   "cell_type": "code",
   "execution_count": null,
   "metadata": {},
   "outputs": [],
   "source": [
    "from imblearn.over_sampling import SMOTE\n",
    "sm = SMOTE(random_state=7)\n",
    "feat_bal, classes_bal = sm.fit_resample(feat_scaled,classes)\n",
    "\n",
    "Xb_train, Xb_validation, Yb_train, Yb_validation = train_test_split(feat_bal, classes_bal, \n",
    "                                                                    test_size=validation_size, random_state=seed)\n",
    "    "
   ]
  },
  {
   "cell_type": "code",
   "execution_count": 86,
   "metadata": {},
   "outputs": [
    {
     "name": "stdout",
     "output_type": "stream",
     "text": [
      "(6759564, 8)\n"
     ]
    }
   ],
   "source": [
    "print(feat_bal.shape)"
   ]
  },
  {
   "cell_type": "markdown",
   "metadata": {},
   "source": [
    "Thus, SMOTE results in a dataset that is 6.7 million patterns."
   ]
  },
  {
   "cell_type": "code",
   "execution_count": null,
   "metadata": {},
   "outputs": [],
   "source": [
    "from imblearn.over_sampling import ADASYN\n",
    "sm = ADASYN(random_state=7)\n",
    "feat_as, classes_as = sm.fit_resample(feat_scaled,classes)\n",
    "\n",
    "Xas_train, Xas_validation, Yas_train, Yas_validation = train_test_split(feat_as, classes_as, \n",
    "                                                                    test_size=validation_size, random_state=seed)\n",
    "print(feat_as.shape)"
   ]
  },
  {
   "cell_type": "code",
   "execution_count": 87,
   "metadata": {},
   "outputs": [
    {
     "name": "stdout",
     "output_type": "stream",
     "text": [
      "(19243, 8)\n"
     ]
    }
   ],
   "source": [
    "from imblearn.under_sampling import RandomUnderSampler\n",
    "ru = RandomUnderSampler(ratio={1: 100, 0: 65},random_state=7)\n",
    "ru.fit(feat_scaled,classes)\n",
    "feat_ru, classes_ru = ru.fit_sample(feat_scaled,classes)\n",
    "\n",
    "Xru_train, Xru_validation, Yru_train, Yru_validation = train_test_split(feat_ru, classes_ru, \n",
    "                                                                test_size=validation_size, random_state=seed)\n",
    "print(feat_ru.shape)"
   ]
  },
  {
   "cell_type": "code",
   "execution_count": 88,
   "metadata": {},
   "outputs": [
    {
     "name": "stdout",
     "output_type": "stream",
     "text": [
      "Train on 15394 samples, validate on 3849 samples\n",
      "Epoch 1/30\n",
      "15394/15394 [==============================] - 4s 246us/step - loss: 1.3510 - sparse_categorical_accuracy: 0.4722 - val_loss: 1.4529 - val_sparse_categorical_accuracy: 0.4819\n",
      "Epoch 2/30\n",
      "15394/15394 [==============================] - 1s 57us/step - loss: 1.2745 - sparse_categorical_accuracy: 0.4891 - val_loss: 1.3222 - val_sparse_categorical_accuracy: 0.4819\n",
      "Epoch 3/30\n",
      "15394/15394 [==============================] - 1s 66us/step - loss: 1.2655 - sparse_categorical_accuracy: 0.4891 - val_loss: 1.2892 - val_sparse_categorical_accuracy: 0.4819\n",
      "Epoch 4/30\n",
      "15394/15394 [==============================] - 1s 55us/step - loss: 1.2594 - sparse_categorical_accuracy: 0.4891 - val_loss: 1.2607 - val_sparse_categorical_accuracy: 0.4819\n",
      "Epoch 5/30\n",
      "15394/15394 [==============================] - 1s 57us/step - loss: 1.2564 - sparse_categorical_accuracy: 0.4891 - val_loss: 1.2624 - val_sparse_categorical_accuracy: 0.4819\n",
      "Epoch 6/30\n",
      "15394/15394 [==============================] - 1s 61us/step - loss: 1.2555 - sparse_categorical_accuracy: 0.4891 - val_loss: 1.2604 - val_sparse_categorical_accuracy: 0.4819\n",
      "Epoch 7/30\n",
      "15394/15394 [==============================] - 1s 60us/step - loss: 1.2568 - sparse_categorical_accuracy: 0.4891 - val_loss: 1.2582 - val_sparse_categorical_accuracy: 0.4819\n",
      "Epoch 8/30\n",
      "15394/15394 [==============================] - 1s 67us/step - loss: 1.2524 - sparse_categorical_accuracy: 0.4891 - val_loss: 1.2618 - val_sparse_categorical_accuracy: 0.4819\n",
      "Epoch 9/30\n",
      "15394/15394 [==============================] - 1s 61us/step - loss: 1.2515 - sparse_categorical_accuracy: 0.4891 - val_loss: 1.2580 - val_sparse_categorical_accuracy: 0.4819\n",
      "Epoch 10/30\n",
      "15394/15394 [==============================] - 1s 63us/step - loss: 1.2516 - sparse_categorical_accuracy: 0.4891 - val_loss: 1.2588 - val_sparse_categorical_accuracy: 0.4819\n",
      "Epoch 11/30\n",
      "15394/15394 [==============================] - 1s 64us/step - loss: 1.2499 - sparse_categorical_accuracy: 0.4891 - val_loss: 1.2630 - val_sparse_categorical_accuracy: 0.4819\n",
      "Epoch 12/30\n",
      "15394/15394 [==============================] - 1s 66us/step - loss: 1.2490 - sparse_categorical_accuracy: 0.4891 - val_loss: 1.2561 - val_sparse_categorical_accuracy: 0.4819\n",
      "Epoch 13/30\n",
      "15394/15394 [==============================] - 1s 65us/step - loss: 1.2482 - sparse_categorical_accuracy: 0.4891 - val_loss: 1.2577 - val_sparse_categorical_accuracy: 0.4819\n",
      "Epoch 14/30\n",
      "15394/15394 [==============================] - 1s 69us/step - loss: 1.2474 - sparse_categorical_accuracy: 0.4891 - val_loss: 1.2546 - val_sparse_categorical_accuracy: 0.4819\n",
      "Epoch 15/30\n",
      "15394/15394 [==============================] - 1s 64us/step - loss: 1.2485 - sparse_categorical_accuracy: 0.4891 - val_loss: 1.2575 - val_sparse_categorical_accuracy: 0.4819\n",
      "Epoch 16/30\n",
      "15394/15394 [==============================] - 1s 73us/step - loss: 1.2478 - sparse_categorical_accuracy: 0.4891 - val_loss: 1.2549 - val_sparse_categorical_accuracy: 0.4819- loss: 1.2480 - sparse_categorical_accuracy: 0.488\n",
      "Epoch 17/30\n",
      "15394/15394 [==============================] - 1s 63us/step - loss: 1.2477 - sparse_categorical_accuracy: 0.4891 - val_loss: 1.2716 - val_sparse_categorical_accuracy: 0.4819\n",
      "Epoch 18/30\n",
      "15394/15394 [==============================] - 1s 65us/step - loss: 1.2472 - sparse_categorical_accuracy: 0.4891 - val_loss: 1.2519 - val_sparse_categorical_accuracy: 0.4819A: 0s - loss: 1.2434 - sparse_categorical_accu\n",
      "Epoch 19/30\n",
      "15394/15394 [==============================] - 1s 61us/step - loss: 1.2465 - sparse_categorical_accuracy: 0.4891 - val_loss: 1.2516 - val_sparse_categorical_accuracy: 0.4819\n",
      "Epoch 20/30\n",
      "15394/15394 [==============================] - 1s 58us/step - loss: 1.2466 - sparse_categorical_accuracy: 0.4891 - val_loss: 1.2528 - val_sparse_categorical_accuracy: 0.4819\n",
      "Epoch 21/30\n",
      "15394/15394 [==============================] - 1s 60us/step - loss: 1.2457 - sparse_categorical_accuracy: 0.4891 - val_loss: 1.2569 - val_sparse_categorical_accuracy: 0.4819\n",
      "Epoch 22/30\n",
      "15394/15394 [==============================] - 1s 62us/step - loss: 1.2458 - sparse_categorical_accuracy: 0.4891 - val_loss: 1.2660 - val_sparse_categorical_accuracy: 0.4819\n",
      "Epoch 23/30\n",
      "15394/15394 [==============================] - 1s 63us/step - loss: 1.2453 - sparse_categorical_accuracy: 0.4891 - val_loss: 1.2541 - val_sparse_categorical_accuracy: 0.4819\n",
      "Epoch 24/30\n",
      "15394/15394 [==============================] - 1s 60us/step - loss: 1.2461 - sparse_categorical_accuracy: 0.4891 - val_loss: 1.2512 - val_sparse_categorical_accuracy: 0.4819\n",
      "Epoch 25/30\n",
      "15394/15394 [==============================] - 1s 55us/step - loss: 1.2457 - sparse_categorical_accuracy: 0.4891 - val_loss: 1.2611 - val_sparse_categorical_accuracy: 0.4801\n",
      "Epoch 26/30\n",
      "15394/15394 [==============================] - 1s 62us/step - loss: 1.2457 - sparse_categorical_accuracy: 0.4891 - val_loss: 1.2605 - val_sparse_categorical_accuracy: 0.4819\n",
      "Epoch 27/30\n",
      "15394/15394 [==============================] - 1s 64us/step - loss: 1.2446 - sparse_categorical_accuracy: 0.4891 - val_loss: 1.2703 - val_sparse_categorical_accuracy: 0.4819\n",
      "Epoch 28/30\n",
      "15394/15394 [==============================] - 1s 72us/step - loss: 1.2454 - sparse_categorical_accuracy: 0.4891 - val_loss: 1.2609 - val_sparse_categorical_accuracy: 0.4819\n",
      "Epoch 29/30\n",
      "15394/15394 [==============================] - 1s 64us/step - loss: 1.2452 - sparse_categorical_accuracy: 0.4891 - val_loss: 1.2575 - val_sparse_categorical_accuracy: 0.4819\n",
      "Epoch 30/30\n",
      "15394/15394 [==============================] - 1s 62us/step - loss: 1.2449 - sparse_categorical_accuracy: 0.4891 - val_loss: 1.2505 - val_sparse_categorical_accuracy: 0.4819\n"
     ]
    },
    {
     "data": {
      "image/png": "[encoded data removed]",
      "text/plain": [
       "<Figure size 432x288 with 1 Axes>"
      ]
     },
     "metadata": {
      "needs_background": "light"
     },
     "output_type": "display_data"
    },
    {
     "data": {
      "image/png": "[encoded data removed]",
      "text/plain": [
       "<Figure size 432x288 with 1 Axes>"
      ]
     },
     "metadata": {
      "needs_background": "light"
     },
     "output_type": "display_data"
    }
   ],
   "source": [
    "# Model with regularization\n",
    "\n",
    "from keras.models import Sequential\n",
    "from keras.layers import Dense, BatchNormalization\n",
    "from keras import optimizers\n",
    "from keras import regularizers\n",
    "import matplotlib.pyplot as plt\n",
    "\n",
    "l2_reg = regularizers.l2(.01)\n",
    "\n",
    "# model definition with regularization\n",
    "model = Sequential()\n",
    "model.add(Dense(16, input_dim = 8, kernel_initializer = 'normal', activation='relu'))\n",
    "model.add(BatchNormalization())\n",
    "model.add(Dense(32, kernel_initializer = 'normal', kernel_regularizer=l2_reg, activation='relu', use_bias=False))\n",
    "model.add(BatchNormalization())\n",
    "model.add(Dense(16, kernel_initializer = 'normal', kernel_regularizer=l2_reg, activation='relu', use_bias=False))\n",
    "model.add(BatchNormalization())\n",
    "model.add(Dense(8, kernel_initializer = 'normal', kernel_regularizer=l2_reg, activation='relu', use_bias=False))\n",
    "\n",
    "model.add(Dense(7, kernel_initializer = 'normal', activation='softmax'))\n",
    "\n",
    "rmsp = optimizers.RMSprop(lr=0.01, rho=0.9)\n",
    "# Compilation\n",
    "\n",
    "# Using 'sparse categorical crossentropy' as loss fn as the input classes is an integer vector and not binary arrays\n",
    "model.compile(loss='sparse_categorical_crossentropy', optimizer = rmsp, metrics = ['sparse_categorical_accuracy'])\n",
    "\n",
    "history = model.fit(Xru_train, Yru_train, validation_data=(Xru_validation,Yru_validation), epochs=30, batch_size = 256)\n",
    "\n",
    "# plot accuracy\n",
    "plt.plot(history.history['sparse_categorical_accuracy'])\n",
    "plt.plot(history.history['val_sparse_categorical_accuracy'])\n",
    "plt.xlabel('epoch')\n",
    "plt.ylabel('accuracy')\n",
    "plt.legend(['train', 'test'], loc='upper left')\n",
    "plt.show()\n",
    "\n",
    "# plot loss\n",
    "plt.plot(history.history['loss'])\n",
    "plt.plot(history.history['val_loss'])\n",
    "plt.xlabel('epoch')\n",
    "plt.ylabel('loss')\n",
    "plt.legend(['train', 'test'], loc='upper left')\n",
    "plt.show()\n",
    "\n"
   ]
  },
  {
   "cell_type": "code",
   "execution_count": null,
   "metadata": {},
   "outputs": [],
   "source": [
    "\n",
    "y_pred = model.predict(X_validation)#, batch_size = 128)\n",
    "confusion_matrix(Y_validation, y_pred.argmax(axis=1))"
   ]
  },
  {
   "cell_type": "markdown",
   "metadata": {},
   "source": [
    "# Conclusions"
   ]
  },
  {
   "cell_type": "markdown",
   "metadata": {},
   "source": [
    "The dataset used for classification is a classic case of imbalanced dataset. The model fit using imbalanced data gives a very high accuracy. However, the confusion matrix output shows the real predictive output, where the majority class is predicted for all other classes as well. As a result there are several false positives.\n",
    "\n",
    "When the dataset is balanced, it is much more difficult to train the model with reasonable accuracy. In addition, the size of the input data increases enormously due to oversampling techniques such as SMOTE or ADASYN. SMOTE resulted in a dataset size of close to 7 million patterns. This places further burden on training a five layers dense network with several parameters to estimated.\n",
    "\n",
    "In order to improve the accuracy for the multi-layer perceptron, other methods such as class weights may be used. Also, adding dropout rates can help reduce parameter size and speed up the training process.\n",
    "\n",
    "Note: Unfortunately due to lack of sufficient computational power and time, these methods could not be explored.\n",
    "\n",
    "Ideally, this dataset is more suited to be modeled using more \"traditional\" non-Neural network based methods such as XGBoost.\n",
    "\n",
    "More features:\n",
    "On the other hand, more features can be added that show correlation to surge_multiplier. These features can provide more explanatory power to the model. \n",
    "\n",
    "As shown below, features such as the type of cab ride i.e., whether it is 'shared', 'luxury' (Lux), bigger size vehicle (XL) show direct correlation to the price. Also, time of day (peak or off-peak) also has a high correlation with price. All or some of these features can be added as dummy variables."
   ]
  },
  {
   "cell_type": "code",
   "execution_count": 84,
   "metadata": {},
   "outputs": [
    {
     "data": {
      "text/html": [
       "<div>\n",
       "<style scoped>\n",
       "    .dataframe tbody tr th:only-of-type {\n",
       "        vertical-align: middle;\n",
       "    }\n",
       "\n",
       "    .dataframe tbody tr th {\n",
       "        vertical-align: top;\n",
       "    }\n",
       "\n",
       "    .dataframe thead th {\n",
       "        text-align: right;\n",
       "    }\n",
       "</style>\n",
       "<table border=\"1\" class=\"dataframe\">\n",
       "  <thead>\n",
       "    <tr style=\"text-align: right;\">\n",
       "      <th></th>\n",
       "      <th>distance</th>\n",
       "      <th>cab_type</th>\n",
       "      <th>time_stamp</th>\n",
       "      <th>destination</th>\n",
       "      <th>source</th>\n",
       "      <th>price</th>\n",
       "      <th>surge_multiplier</th>\n",
       "      <th>name</th>\n",
       "      <th>time_source</th>\n",
       "    </tr>\n",
       "  </thead>\n",
       "  <tbody>\n",
       "    <tr>\n",
       "      <th>0</th>\n",
       "      <td>0.44</td>\n",
       "      <td>Lyft</td>\n",
       "      <td>1544952607890</td>\n",
       "      <td>North Station</td>\n",
       "      <td>Haymarket Square</td>\n",
       "      <td>5.0</td>\n",
       "      <td>1.0</td>\n",
       "      <td>Shared</td>\n",
       "      <td>2018-12-16 09:30:07.890</td>\n",
       "    </tr>\n",
       "    <tr>\n",
       "      <th>1</th>\n",
       "      <td>0.44</td>\n",
       "      <td>Lyft</td>\n",
       "      <td>1543284023677</td>\n",
       "      <td>North Station</td>\n",
       "      <td>Haymarket Square</td>\n",
       "      <td>11.0</td>\n",
       "      <td>1.0</td>\n",
       "      <td>Lux</td>\n",
       "      <td>2018-11-27 02:00:23.677</td>\n",
       "    </tr>\n",
       "  </tbody>\n",
       "</table>\n",
       "</div>"
      ],
      "text/plain": [
       "   distance cab_type     time_stamp    destination            source  price  \\\n",
       "0      0.44     Lyft  1544952607890  North Station  Haymarket Square    5.0   \n",
       "1      0.44     Lyft  1543284023677  North Station  Haymarket Square   11.0   \n",
       "\n",
       "   surge_multiplier    name             time_source  \n",
       "0               1.0  Shared 2018-12-16 09:30:07.890  \n",
       "1               1.0     Lux 2018-11-27 02:00:23.677  "
      ]
     },
     "execution_count": 84,
     "metadata": {},
     "output_type": "execute_result"
    }
   ],
   "source": [
    "# Separating out lyft & Uber as the naming of rides is different in each ride provider\n",
    "\n",
    "df_lyft = cabs_df[cabs_df['cab_type']=='Lyft']\n",
    "df_uber = cabs_df[cabs_df['cab_type']=='Uber']\n",
    "lyft_type = pd.CategoricalDtype(categories=['Shared', 'Lyft', 'Lyft XL','Lux', 'Lux Black','Lux Black XL'],\n",
    "                             ordered=True)\n",
    "#del df_lyft['time_stamp']\n",
    "del df_lyft['id']\n",
    "del df_lyft['product_id']\n",
    "\n",
    "df_lyft.head(2)\n",
    "\n"
   ]
  },
  {
   "cell_type": "code",
   "execution_count": 12,
   "metadata": {},
   "outputs": [
    {
     "data": {
      "text/html": [
       "<div>\n",
       "<style scoped>\n",
       "    .dataframe tbody tr th:only-of-type {\n",
       "        vertical-align: middle;\n",
       "    }\n",
       "\n",
       "    .dataframe tbody tr th {\n",
       "        vertical-align: top;\n",
       "    }\n",
       "\n",
       "    .dataframe thead th {\n",
       "        text-align: right;\n",
       "    }\n",
       "</style>\n",
       "<table border=\"1\" class=\"dataframe\">\n",
       "  <thead>\n",
       "    <tr style=\"text-align: right;\">\n",
       "      <th></th>\n",
       "      <th>Lux</th>\n",
       "      <th>Lux Black</th>\n",
       "      <th>Lux Black XL</th>\n",
       "      <th>Lyft</th>\n",
       "      <th>Lyft XL</th>\n",
       "      <th>Shared</th>\n",
       "    </tr>\n",
       "  </thead>\n",
       "  <tbody>\n",
       "    <tr>\n",
       "      <th>0</th>\n",
       "      <td>0</td>\n",
       "      <td>0</td>\n",
       "      <td>0</td>\n",
       "      <td>0</td>\n",
       "      <td>0</td>\n",
       "      <td>1</td>\n",
       "    </tr>\n",
       "    <tr>\n",
       "      <th>1</th>\n",
       "      <td>1</td>\n",
       "      <td>0</td>\n",
       "      <td>0</td>\n",
       "      <td>0</td>\n",
       "      <td>0</td>\n",
       "      <td>0</td>\n",
       "    </tr>\n",
       "    <tr>\n",
       "      <th>2</th>\n",
       "      <td>0</td>\n",
       "      <td>0</td>\n",
       "      <td>0</td>\n",
       "      <td>1</td>\n",
       "      <td>0</td>\n",
       "      <td>0</td>\n",
       "    </tr>\n",
       "  </tbody>\n",
       "</table>\n",
       "</div>"
      ],
      "text/plain": [
       "   Lux  Lux Black  Lux Black XL  Lyft  Lyft XL  Shared\n",
       "0    0          0             0     0        0       1\n",
       "1    1          0             0     0        0       0\n",
       "2    0          0             0     1        0       0"
      ]
     },
     "execution_count": 12,
     "metadata": {},
     "output_type": "execute_result"
    }
   ],
   "source": [
    "# Dummy variables for type of ride service\n",
    "\n",
    "dummy_lyft = pd.get_dummies(df_lyft['name'], dtype=int)\n",
    "dummy_lyft.head(3)\n"
   ]
  },
  {
   "cell_type": "code",
   "execution_count": 14,
   "metadata": {},
   "outputs": [
    {
     "data": {
      "text/plain": [
       "<seaborn.axisgrid.FacetGrid at 0x27a5bf7b5f8>"
      ]
     },
     "execution_count": 14,
     "metadata": {},
     "output_type": "execute_result"
    },
    {
     "data": {
      "image/png": "[encoded data removed]",
      "text/plain": [
       "<Figure size 360x360 with 1 Axes>"
      ]
     },
     "metadata": {},
     "output_type": "display_data"
    }
   ],
   "source": [
    "sns.set()\n",
    "sns.catplot(y='price',x='name',kind='box',data=df_lyft, \n",
    "            order=['Shared', 'Lyft', 'Lyft XL','Lux', 'Lux Black','Lux Black XL'])"
   ]
  },
  {
   "cell_type": "code",
   "execution_count": 16,
   "metadata": {},
   "outputs": [
    {
     "data": {
      "text/plain": [
       "<seaborn.axisgrid.FacetGrid at 0x27a53acc710>"
      ]
     },
     "execution_count": 16,
     "metadata": {},
     "output_type": "execute_result"
    },
    {
     "data": {
      "image/png": "[encoded data removed]",
      "text/plain": [
       "<Figure size 360x360 with 1 Axes>"
      ]
     },
     "metadata": {},
     "output_type": "display_data"
    }
   ],
   "source": [
    "sns.catplot(y='price',x='name',kind='box',data=df_uber, \n",
    "            order=['UberPool','WAV','Taxi','UberX', 'UberXL', 'Black', 'Black SUV'])\n"
   ]
  },
  {
   "cell_type": "markdown",
   "metadata": {},
   "source": [
    "It appears that there is a correlation between the type of service and price, which is expected.\n",
    "Lyft - ['Shared', 'Lyft', 'Lyft XL','Lux', 'Lux Black','Lux Black XL'] in that order\n",
    "Uber - ['UberPool','WAV','UberX', 'UberXL', 'Black', 'Black SUV'] in that order"
   ]
  },
  {
   "cell_type": "code",
   "execution_count": 85,
   "metadata": {},
   "outputs": [],
   "source": [
    "df_lyft_dum = pd.concat([df_lyft,dummy_lyft],axis=1)"
   ]
  },
  {
   "cell_type": "code",
   "execution_count": 88,
   "metadata": {},
   "outputs": [
    {
     "data": {
      "text/html": [
       "<div>\n",
       "<style scoped>\n",
       "    .dataframe tbody tr th:only-of-type {\n",
       "        vertical-align: middle;\n",
       "    }\n",
       "\n",
       "    .dataframe tbody tr th {\n",
       "        vertical-align: top;\n",
       "    }\n",
       "\n",
       "    .dataframe thead th {\n",
       "        text-align: right;\n",
       "    }\n",
       "</style>\n",
       "<table border=\"1\" class=\"dataframe\">\n",
       "  <thead>\n",
       "    <tr style=\"text-align: right;\">\n",
       "      <th></th>\n",
       "      <th>distance</th>\n",
       "      <th>cab_type</th>\n",
       "      <th>time_stamp</th>\n",
       "      <th>destination</th>\n",
       "      <th>source</th>\n",
       "      <th>price</th>\n",
       "      <th>surge_multiplier</th>\n",
       "      <th>name</th>\n",
       "      <th>time_source</th>\n",
       "      <th>Lux</th>\n",
       "      <th>Lux Black</th>\n",
       "      <th>Lux Black XL</th>\n",
       "      <th>Lyft</th>\n",
       "      <th>Lyft XL</th>\n",
       "      <th>Shared</th>\n",
       "    </tr>\n",
       "  </thead>\n",
       "  <tbody>\n",
       "    <tr>\n",
       "      <th>0</th>\n",
       "      <td>0.44</td>\n",
       "      <td>Lyft</td>\n",
       "      <td>1544952607890</td>\n",
       "      <td>North Station</td>\n",
       "      <td>Haymarket Square</td>\n",
       "      <td>5.0</td>\n",
       "      <td>1.0</td>\n",
       "      <td>Shared</td>\n",
       "      <td>2018-12-16 09:30:07.890</td>\n",
       "      <td>0</td>\n",
       "      <td>0</td>\n",
       "      <td>0</td>\n",
       "      <td>0</td>\n",
       "      <td>0</td>\n",
       "      <td>1</td>\n",
       "    </tr>\n",
       "    <tr>\n",
       "      <th>1</th>\n",
       "      <td>0.44</td>\n",
       "      <td>Lyft</td>\n",
       "      <td>1543284023677</td>\n",
       "      <td>North Station</td>\n",
       "      <td>Haymarket Square</td>\n",
       "      <td>11.0</td>\n",
       "      <td>1.0</td>\n",
       "      <td>Lux</td>\n",
       "      <td>2018-11-27 02:00:23.677</td>\n",
       "      <td>1</td>\n",
       "      <td>0</td>\n",
       "      <td>0</td>\n",
       "      <td>0</td>\n",
       "      <td>0</td>\n",
       "      <td>0</td>\n",
       "    </tr>\n",
       "  </tbody>\n",
       "</table>\n",
       "</div>"
      ],
      "text/plain": [
       "   distance cab_type     time_stamp    destination            source  price  \\\n",
       "0      0.44     Lyft  1544952607890  North Station  Haymarket Square    5.0   \n",
       "1      0.44     Lyft  1543284023677  North Station  Haymarket Square   11.0   \n",
       "\n",
       "   surge_multiplier    name             time_source  Lux  Lux Black  \\\n",
       "0               1.0  Shared 2018-12-16 09:30:07.890    0          0   \n",
       "1               1.0     Lux 2018-11-27 02:00:23.677    1          0   \n",
       "\n",
       "   Lux Black XL  Lyft  Lyft XL  Shared  \n",
       "0             0     0        0       1  \n",
       "1             0     0        0       0  "
      ]
     },
     "execution_count": 88,
     "metadata": {},
     "output_type": "execute_result"
    }
   ],
   "source": [
    "df_lyft_dum.head(2)"
   ]
  },
  {
   "cell_type": "code",
   "execution_count": 95,
   "metadata": {},
   "outputs": [
    {
     "data": {
      "text/html": [
       "<div>\n",
       "<style scoped>\n",
       "    .dataframe tbody tr th:only-of-type {\n",
       "        vertical-align: middle;\n",
       "    }\n",
       "\n",
       "    .dataframe tbody tr th {\n",
       "        vertical-align: top;\n",
       "    }\n",
       "\n",
       "    .dataframe thead th {\n",
       "        text-align: right;\n",
       "    }\n",
       "</style>\n",
       "<table border=\"1\" class=\"dataframe\">\n",
       "  <thead>\n",
       "    <tr style=\"text-align: right;\">\n",
       "      <th></th>\n",
       "      <th>distance</th>\n",
       "      <th>cab_type</th>\n",
       "      <th>time_stamp</th>\n",
       "      <th>destination</th>\n",
       "      <th>source</th>\n",
       "      <th>price</th>\n",
       "      <th>surge_multiplier</th>\n",
       "      <th>name</th>\n",
       "      <th>time_source</th>\n",
       "      <th>Lux</th>\n",
       "      <th>Lux Black</th>\n",
       "      <th>Lux Black XL</th>\n",
       "      <th>Lyft</th>\n",
       "      <th>Lyft XL</th>\n",
       "      <th>Shared</th>\n",
       "      <th>peak_time</th>\n",
       "      <th>wkday</th>\n",
       "    </tr>\n",
       "  </thead>\n",
       "  <tbody>\n",
       "    <tr>\n",
       "      <th>0</th>\n",
       "      <td>0.44</td>\n",
       "      <td>Lyft</td>\n",
       "      <td>1544952607890</td>\n",
       "      <td>North Station</td>\n",
       "      <td>Haymarket Square</td>\n",
       "      <td>5.0</td>\n",
       "      <td>1.0</td>\n",
       "      <td>Shared</td>\n",
       "      <td>2018-12-16 09:30:07.890</td>\n",
       "      <td>0</td>\n",
       "      <td>0</td>\n",
       "      <td>0</td>\n",
       "      <td>0</td>\n",
       "      <td>0</td>\n",
       "      <td>1</td>\n",
       "      <td>1</td>\n",
       "      <td>1</td>\n",
       "    </tr>\n",
       "    <tr>\n",
       "      <th>1</th>\n",
       "      <td>0.44</td>\n",
       "      <td>Lyft</td>\n",
       "      <td>1543284023677</td>\n",
       "      <td>North Station</td>\n",
       "      <td>Haymarket Square</td>\n",
       "      <td>11.0</td>\n",
       "      <td>1.0</td>\n",
       "      <td>Lux</td>\n",
       "      <td>2018-11-27 02:00:23.677</td>\n",
       "      <td>1</td>\n",
       "      <td>0</td>\n",
       "      <td>0</td>\n",
       "      <td>0</td>\n",
       "      <td>0</td>\n",
       "      <td>0</td>\n",
       "      <td>0</td>\n",
       "      <td>1</td>\n",
       "    </tr>\n",
       "    <tr>\n",
       "      <th>2</th>\n",
       "      <td>0.44</td>\n",
       "      <td>Lyft</td>\n",
       "      <td>1543366822198</td>\n",
       "      <td>North Station</td>\n",
       "      <td>Haymarket Square</td>\n",
       "      <td>7.0</td>\n",
       "      <td>1.0</td>\n",
       "      <td>Lyft</td>\n",
       "      <td>2018-11-28 01:00:22.198</td>\n",
       "      <td>0</td>\n",
       "      <td>0</td>\n",
       "      <td>0</td>\n",
       "      <td>1</td>\n",
       "      <td>0</td>\n",
       "      <td>0</td>\n",
       "      <td>0</td>\n",
       "      <td>1</td>\n",
       "    </tr>\n",
       "  </tbody>\n",
       "</table>\n",
       "</div>"
      ],
      "text/plain": [
       "   distance cab_type     time_stamp    destination            source  price  \\\n",
       "0      0.44     Lyft  1544952607890  North Station  Haymarket Square    5.0   \n",
       "1      0.44     Lyft  1543284023677  North Station  Haymarket Square   11.0   \n",
       "2      0.44     Lyft  1543366822198  North Station  Haymarket Square    7.0   \n",
       "\n",
       "   surge_multiplier    name             time_source  Lux  Lux Black  \\\n",
       "0               1.0  Shared 2018-12-16 09:30:07.890    0          0   \n",
       "1               1.0     Lux 2018-11-27 02:00:23.677    1          0   \n",
       "2               1.0    Lyft 2018-11-28 01:00:22.198    0          0   \n",
       "\n",
       "   Lux Black XL  Lyft  Lyft XL  Shared  peak_time  wkday  \n",
       "0             0     0        0       1          1      1  \n",
       "1             0     0        0       0          0      1  \n",
       "2             0     1        0       0          0      1  "
      ]
     },
     "execution_count": 95,
     "metadata": {},
     "output_type": "execute_result"
    }
   ],
   "source": [
    "# Creating dummy variables for peak time & week day\n",
    "\n",
    "#df_lyft_dum['peak_time']= 1 if ((df_lyft_dum['time_source'].dt.hour > 15) & \n",
    "#                (df_lyft_dum['time_source'].dt.hour < 21)) else 0 \n",
    "df_lyft_dum['peak_time']= 0 \n",
    "df_lyft_dum.loc[(df_lyft_dum['time_source'].dt.hour > 5) & \n",
    "                (df_lyft_dum['time_source'].dt.hour < 11),'peak_time']= 1\n",
    "df_lyft_dum.loc[(df_lyft_dum['time_source'].dt.hour > 15) & \n",
    "                (df_lyft_dum['time_source'].dt.hour < 21),'peak_time']= 1\n",
    "\n",
    "df_lyft_dum['wkday'] = 1\n",
    "df_lyft_dum.loc[(df_lyft_dum['time_source'].dt.weekday < 1) & \n",
    "                (df_lyft_dum['time_source'].dt.weekday > 5),'peak_time']= 0\n",
    "\n",
    "df_lyft_dum.head(3)"
   ]
  },
  {
   "cell_type": "code",
   "execution_count": 97,
   "metadata": {},
   "outputs": [
    {
     "data": {
      "text/html": [
       "<div>\n",
       "<style scoped>\n",
       "    .dataframe tbody tr th:only-of-type {\n",
       "        vertical-align: middle;\n",
       "    }\n",
       "\n",
       "    .dataframe tbody tr th {\n",
       "        vertical-align: top;\n",
       "    }\n",
       "\n",
       "    .dataframe thead th {\n",
       "        text-align: right;\n",
       "    }\n",
       "</style>\n",
       "<table border=\"1\" class=\"dataframe\">\n",
       "  <thead>\n",
       "    <tr style=\"text-align: right;\">\n",
       "      <th></th>\n",
       "      <th>distance</th>\n",
       "      <th>time_stamp</th>\n",
       "      <th>price</th>\n",
       "      <th>surge_multiplier</th>\n",
       "      <th>Lux</th>\n",
       "      <th>Lux Black</th>\n",
       "      <th>Lux Black XL</th>\n",
       "      <th>Lyft</th>\n",
       "      <th>Lyft XL</th>\n",
       "      <th>Shared</th>\n",
       "      <th>peak_time</th>\n",
       "      <th>wkday</th>\n",
       "    </tr>\n",
       "  </thead>\n",
       "  <tbody>\n",
       "    <tr>\n",
       "      <th>distance</th>\n",
       "      <td>1.000000</td>\n",
       "      <td>0.004085</td>\n",
       "      <td>0.361567</td>\n",
       "      <td>0.040076</td>\n",
       "      <td>-0.000003</td>\n",
       "      <td>-0.000003</td>\n",
       "      <td>-0.000003</td>\n",
       "      <td>-0.000003</td>\n",
       "      <td>-0.000003</td>\n",
       "      <td>0.000015</td>\n",
       "      <td>0.000216</td>\n",
       "      <td>NaN</td>\n",
       "    </tr>\n",
       "    <tr>\n",
       "      <th>time_stamp</th>\n",
       "      <td>0.004085</td>\n",
       "      <td>1.000000</td>\n",
       "      <td>0.001909</td>\n",
       "      <td>0.001093</td>\n",
       "      <td>-0.001895</td>\n",
       "      <td>0.000967</td>\n",
       "      <td>0.000371</td>\n",
       "      <td>-0.001550</td>\n",
       "      <td>0.000550</td>\n",
       "      <td>0.001557</td>\n",
       "      <td>0.024260</td>\n",
       "      <td>NaN</td>\n",
       "    </tr>\n",
       "    <tr>\n",
       "      <th>price</th>\n",
       "      <td>0.361567</td>\n",
       "      <td>0.001909</td>\n",
       "      <td>1.000000</td>\n",
       "      <td>0.308237</td>\n",
       "      <td>0.018740</td>\n",
       "      <td>0.254920</td>\n",
       "      <td>0.668322</td>\n",
       "      <td>-0.345506</td>\n",
       "      <td>-0.091148</td>\n",
       "      <td>-0.505335</td>\n",
       "      <td>-0.001722</td>\n",
       "      <td>NaN</td>\n",
       "    </tr>\n",
       "    <tr>\n",
       "      <th>surge_multiplier</th>\n",
       "      <td>0.040076</td>\n",
       "      <td>0.001093</td>\n",
       "      <td>0.308237</td>\n",
       "      <td>1.000000</td>\n",
       "      <td>0.019478</td>\n",
       "      <td>0.019478</td>\n",
       "      <td>0.019478</td>\n",
       "      <td>0.022343</td>\n",
       "      <td>0.022343</td>\n",
       "      <td>-0.103121</td>\n",
       "      <td>-0.005464</td>\n",
       "      <td>NaN</td>\n",
       "    </tr>\n",
       "    <tr>\n",
       "      <th>Lux</th>\n",
       "      <td>-0.000003</td>\n",
       "      <td>-0.001895</td>\n",
       "      <td>0.018740</td>\n",
       "      <td>0.019478</td>\n",
       "      <td>1.000000</td>\n",
       "      <td>-0.200002</td>\n",
       "      <td>-0.200002</td>\n",
       "      <td>-0.200002</td>\n",
       "      <td>-0.200002</td>\n",
       "      <td>-0.199997</td>\n",
       "      <td>0.000643</td>\n",
       "      <td>NaN</td>\n",
       "    </tr>\n",
       "    <tr>\n",
       "      <th>Lux Black</th>\n",
       "      <td>-0.000003</td>\n",
       "      <td>0.000967</td>\n",
       "      <td>0.254920</td>\n",
       "      <td>0.019478</td>\n",
       "      <td>-0.200002</td>\n",
       "      <td>1.000000</td>\n",
       "      <td>-0.200002</td>\n",
       "      <td>-0.200002</td>\n",
       "      <td>-0.200002</td>\n",
       "      <td>-0.199997</td>\n",
       "      <td>-0.000583</td>\n",
       "      <td>NaN</td>\n",
       "    </tr>\n",
       "    <tr>\n",
       "      <th>Lux Black XL</th>\n",
       "      <td>-0.000003</td>\n",
       "      <td>0.000371</td>\n",
       "      <td>0.668322</td>\n",
       "      <td>0.019478</td>\n",
       "      <td>-0.200002</td>\n",
       "      <td>-0.200002</td>\n",
       "      <td>1.000000</td>\n",
       "      <td>-0.200002</td>\n",
       "      <td>-0.200002</td>\n",
       "      <td>-0.199997</td>\n",
       "      <td>-0.000441</td>\n",
       "      <td>NaN</td>\n",
       "    </tr>\n",
       "    <tr>\n",
       "      <th>Lyft</th>\n",
       "      <td>-0.000003</td>\n",
       "      <td>-0.001550</td>\n",
       "      <td>-0.345506</td>\n",
       "      <td>0.022343</td>\n",
       "      <td>-0.200002</td>\n",
       "      <td>-0.200002</td>\n",
       "      <td>-0.200002</td>\n",
       "      <td>1.000000</td>\n",
       "      <td>-0.200002</td>\n",
       "      <td>-0.199997</td>\n",
       "      <td>-0.001650</td>\n",
       "      <td>NaN</td>\n",
       "    </tr>\n",
       "    <tr>\n",
       "      <th>Lyft XL</th>\n",
       "      <td>-0.000003</td>\n",
       "      <td>0.000550</td>\n",
       "      <td>-0.091148</td>\n",
       "      <td>0.022343</td>\n",
       "      <td>-0.200002</td>\n",
       "      <td>-0.200002</td>\n",
       "      <td>-0.200002</td>\n",
       "      <td>-0.200002</td>\n",
       "      <td>1.000000</td>\n",
       "      <td>-0.199997</td>\n",
       "      <td>0.000057</td>\n",
       "      <td>NaN</td>\n",
       "    </tr>\n",
       "    <tr>\n",
       "      <th>Shared</th>\n",
       "      <td>0.000015</td>\n",
       "      <td>0.001557</td>\n",
       "      <td>-0.505335</td>\n",
       "      <td>-0.103121</td>\n",
       "      <td>-0.199997</td>\n",
       "      <td>-0.199997</td>\n",
       "      <td>-0.199997</td>\n",
       "      <td>-0.199997</td>\n",
       "      <td>-0.199997</td>\n",
       "      <td>1.000000</td>\n",
       "      <td>0.001973</td>\n",
       "      <td>NaN</td>\n",
       "    </tr>\n",
       "    <tr>\n",
       "      <th>peak_time</th>\n",
       "      <td>0.000216</td>\n",
       "      <td>0.024260</td>\n",
       "      <td>-0.001722</td>\n",
       "      <td>-0.005464</td>\n",
       "      <td>0.000643</td>\n",
       "      <td>-0.000583</td>\n",
       "      <td>-0.000441</td>\n",
       "      <td>-0.001650</td>\n",
       "      <td>0.000057</td>\n",
       "      <td>0.001973</td>\n",
       "      <td>1.000000</td>\n",
       "      <td>NaN</td>\n",
       "    </tr>\n",
       "    <tr>\n",
       "      <th>wkday</th>\n",
       "      <td>NaN</td>\n",
       "      <td>NaN</td>\n",
       "      <td>NaN</td>\n",
       "      <td>NaN</td>\n",
       "      <td>NaN</td>\n",
       "      <td>NaN</td>\n",
       "      <td>NaN</td>\n",
       "      <td>NaN</td>\n",
       "      <td>NaN</td>\n",
       "      <td>NaN</td>\n",
       "      <td>NaN</td>\n",
       "      <td>NaN</td>\n",
       "    </tr>\n",
       "  </tbody>\n",
       "</table>\n",
       "</div>"
      ],
      "text/plain": [
       "                  distance  time_stamp     price  surge_multiplier       Lux  \\\n",
       "distance          1.000000    0.004085  0.361567          0.040076 -0.000003   \n",
       "time_stamp        0.004085    1.000000  0.001909          0.001093 -0.001895   \n",
       "price             0.361567    0.001909  1.000000          0.308237  0.018740   \n",
       "surge_multiplier  0.040076    0.001093  0.308237          1.000000  0.019478   \n",
       "Lux              -0.000003   -0.001895  0.018740          0.019478  1.000000   \n",
       "Lux Black        -0.000003    0.000967  0.254920          0.019478 -0.200002   \n",
       "Lux Black XL     -0.000003    0.000371  0.668322          0.019478 -0.200002   \n",
       "Lyft             -0.000003   -0.001550 -0.345506          0.022343 -0.200002   \n",
       "Lyft XL          -0.000003    0.000550 -0.091148          0.022343 -0.200002   \n",
       "Shared            0.000015    0.001557 -0.505335         -0.103121 -0.199997   \n",
       "peak_time         0.000216    0.024260 -0.001722         -0.005464  0.000643   \n",
       "wkday                  NaN         NaN       NaN               NaN       NaN   \n",
       "\n",
       "                  Lux Black  Lux Black XL      Lyft   Lyft XL    Shared  \\\n",
       "distance          -0.000003     -0.000003 -0.000003 -0.000003  0.000015   \n",
       "time_stamp         0.000967      0.000371 -0.001550  0.000550  0.001557   \n",
       "price              0.254920      0.668322 -0.345506 -0.091148 -0.505335   \n",
       "surge_multiplier   0.019478      0.019478  0.022343  0.022343 -0.103121   \n",
       "Lux               -0.200002     -0.200002 -0.200002 -0.200002 -0.199997   \n",
       "Lux Black          1.000000     -0.200002 -0.200002 -0.200002 -0.199997   \n",
       "Lux Black XL      -0.200002      1.000000 -0.200002 -0.200002 -0.199997   \n",
       "Lyft              -0.200002     -0.200002  1.000000 -0.200002 -0.199997   \n",
       "Lyft XL           -0.200002     -0.200002 -0.200002  1.000000 -0.199997   \n",
       "Shared            -0.199997     -0.199997 -0.199997 -0.199997  1.000000   \n",
       "peak_time         -0.000583     -0.000441 -0.001650  0.000057  0.001973   \n",
       "wkday                   NaN           NaN       NaN       NaN       NaN   \n",
       "\n",
       "                  peak_time  wkday  \n",
       "distance           0.000216    NaN  \n",
       "time_stamp         0.024260    NaN  \n",
       "price             -0.001722    NaN  \n",
       "surge_multiplier  -0.005464    NaN  \n",
       "Lux                0.000643    NaN  \n",
       "Lux Black         -0.000583    NaN  \n",
       "Lux Black XL      -0.000441    NaN  \n",
       "Lyft              -0.001650    NaN  \n",
       "Lyft XL            0.000057    NaN  \n",
       "Shared             0.001973    NaN  \n",
       "peak_time          1.000000    NaN  \n",
       "wkday                   NaN    NaN  "
      ]
     },
     "execution_count": 97,
     "metadata": {},
     "output_type": "execute_result"
    }
   ],
   "source": [
    "df_lyft_dum.corr()"
   ]
  },
  {
   "cell_type": "code",
   "execution_count": 101,
   "metadata": {},
   "outputs": [
    {
     "data": {
      "image/png": "[encoded data removed]",
      "text/plain": [
       "<Figure size 432x288 with 2 Axes>"
      ]
     },
     "metadata": {},
     "output_type": "display_data"
    }
   ],
   "source": [
    "# Correlation Matrix plot\n",
    "\n",
    "num_cols = ['distance','time_stamp','price','surge','Lux','Lux B','Lux BX','Lyft','LyftX','Share','peak']\n",
    "correlations = df_lyft_dum.corr()\n",
    "fig = pyplot.figure()\n",
    "ax = fig.add_subplot(111)\n",
    "cax = ax.matshow(correlations,vmin=-1,vmax=1)\n",
    "fig.colorbar(cax)\n",
    "ticks = np.arange(0,9,1)\n",
    "ax.set_xticks(ticks)\n",
    "ax.set_yticks(ticks)\n",
    "ax.set_xticklabels(num_cols)\n",
    "ax.set_yticklabels(num_cols)\n",
    "pyplot.show()"
   ]
  },
  {
   "cell_type": "code",
   "execution_count": null,
   "metadata": {},
   "outputs": [],
   "source": []
  }
 ],
 "metadata": {
  "kernelspec": {
   "display_name": "Python 3",
   "language": "python",
   "name": "python3"
  },
  "language_info": {
   "codemirror_mode": {
    "name": "ipython",
    "version": 3
   },
   "file_extension": ".py",
   "mimetype": "text/x-python",
   "name": "python",
   "nbconvert_exporter": "python",
   "pygments_lexer": "ipython3",
   "version": "3.7.4"
  }
 },
 "nbformat": 4,
 "nbformat_minor": 2
}
