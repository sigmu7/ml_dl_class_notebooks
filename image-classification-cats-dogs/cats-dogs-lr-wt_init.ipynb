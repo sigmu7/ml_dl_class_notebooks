{
 "cells": [
  {
   "cell_type": "markdown",
   "metadata": {},
   "source": [
    "# Additional exploration with Cats & Dogs"
   ]
  },
  {
   "cell_type": "markdown",
   "metadata": {},
   "source": [
    "### Exploring Weight Initialization"
   ]
  },
  {
   "cell_type": "code",
   "execution_count": 1,
   "metadata": {
    "scrolled": false
   },
   "outputs": [
    {
     "name": "stderr",
     "output_type": "stream",
     "text": [
      "Using TensorFlow backend.\n"
     ]
    },
    {
     "name": "stdout",
     "output_type": "stream",
     "text": [
      "Found 14034 images belonging to 6 classes.\n",
      "Found 3000 images belonging to 6 classes.\n",
      "db shape (6, 150, 150, 3)\n",
      "lb shape (6, 6)\n"
     ]
    }
   ],
   "source": [
    "from keras.preprocessing.image import ImageDataGenerator\n",
    "import os\n",
    "\n",
    "train_datagen = ImageDataGenerator(rescale=1./255)\n",
    "test_datagen = ImageDataGenerator(rescale=1./255)\n",
    "\n",
    "base_dir = 'cats_dogs_data'\n",
    "\n",
    "train_dir = os.path.join(base_dir,'seg_train')\n",
    "valid_dir = os.path.join(base_dir,'seg_test')\n",
    "test_dir = os.path.join(base_dir,'seg_pred')\n",
    "\n",
    "train_generator = train_datagen.flow_from_directory(train_dir,\n",
    "                                                   target_size = (150,150),\n",
    "                                                   batch_size = 6,\n",
    "                                                   class_mode = 'categorical',\n",
    "                                                   shuffle=True)\n",
    "valid_generator = test_datagen.flow_from_directory(valid_dir,\n",
    "                                                   target_size = (150,150),\n",
    "                                                   batch_size = 6,\n",
    "                                                   class_mode = 'categorical',\n",
    "                                                  shuffle=True)\n",
    "\n",
    "for data_batch, labels_batch in train_generator:\n",
    "    print('db shape', data_batch.shape)\n",
    "    print('lb shape', labels_batch.shape)\n",
    "    break"
   ]
  },
  {
   "cell_type": "markdown",
   "metadata": {},
   "source": [
    "### Learning rate"
   ]
  },
  {
   "cell_type": "markdown",
   "metadata": {},
   "source": [
    "It is apparent from the loss plots for the models above that the learning rate flattens after about 15 iterations. For this purpose, the following options will be explored using the SGD + momentum model:\n",
    "- multiple learning rates\n",
    "- learning rate decay"
   ]
  },
  {
   "cell_type": "code",
   "execution_count": 2,
   "metadata": {},
   "outputs": [
    {
     "data": {
      "text/plain": [
       "<Figure size 640x480 with 1 Axes>"
      ]
     },
     "metadata": {},
     "output_type": "display_data"
    },
    {
     "data": {
      "text/plain": [
       "<Figure size 640x480 with 1 Axes>"
      ]
     },
     "metadata": {},
     "output_type": "display_data"
    },
    {
     "data": {
      "text/plain": [
       "<Figure size 640x480 with 1 Axes>"
      ]
     },
     "metadata": {},
     "output_type": "display_data"
    },
    {
     "data": {
      "text/plain": [
       "<Figure size 640x480 with 1 Axes>"
      ]
     },
     "metadata": {},
     "output_type": "display_data"
    }
   ],
   "source": [
    "import matplotlib.pyplot as plt\n",
    "from keras import layers, models, optimizers\n",
    "\n",
    "# Exploring learning rate values for the second model's architecture (using SGD + momentum optimizer)\n",
    "\n",
    "def build_model_lr(lrate): \n",
    "    model = models.Sequential()\n",
    "    model.add(layers.Conv2D(32,(3,3), activation = 'relu', input_shape = (150,150,3)))\n",
    "    model.add(layers.MaxPooling2D((2,2)))\n",
    "    model.add(layers.Conv2D(64, (3,3), activation = 'relu'))\n",
    "    model.add(layers.MaxPooling2D((2,2)))\n",
    "    model.add(layers.Conv2D(128, (3,3), activation = 'relu'))\n",
    "    model.add(layers.MaxPooling2D((2,2)))\n",
    "    model.add(layers.Conv2D(128, (3,3), activation = 'relu'))\n",
    "    model.add(layers.MaxPooling2D((2,2)))\n",
    "    model.add(layers.Flatten())\n",
    "    model.add(layers.Dense(512,activation='relu'))\n",
    "    model.add(layers.Dense(6,activation = 'softmax'))\n",
    "\n",
    "    #model.summary()\n",
    "    model.compile(loss='categorical_crossentropy',\n",
    "             optimizer = optimizers.SGD(lr=lrate,momentum=0.9),\n",
    "             metrics=['acc'])\n",
    "    \n",
    "    return model\n",
    "\n",
    "l_rate = [0.1,0.01,0.001,.0001]\n",
    "\n",
    "for i in range(len(l_rate)):\n",
    "    #plot_num = 420+i+1\n",
    "    plt.figure()\n",
    "    m_lr = build_model_lr(l_rate[i]) \n",
    "    history = m_lr.fit_generator(train_generator,\n",
    "                                 steps_per_epoch = 100,\n",
    "                                 epochs = 40,\n",
    "                                 validation_data = valid_generator,\n",
    "                                 validation_steps = 100, verbose=0)\n",
    "    acc = history.history['acc']\n",
    "    val_acc = history.history['val_acc']\n",
    "    loss = history.history['loss']\n",
    "    val_loss = history.history['val_loss']\n",
    "\n",
    "    epochs = range(1,len(acc)+1)\n",
    "\n",
    "    plt.plot(epochs,acc, 'b', label='Train accuracy')\n",
    "    plt.plot(epochs,val_acc, 'r', label='Validation accuracy')\n",
    "    plt.title('Accuracy w/ l rate ='+str(l_rate[i]), pad=50)\n",
    "    plt.legend()\n",
    "\n",
    "\n",
    "\n",
    "    plt.show()\n"
   ]
  },
  {
   "cell_type": "code",
   "execution_count": 10,
   "metadata": {
    "scrolled": true
   },
   "outputs": [
    {
     "data": {
      "image/png": "[encoded data removed]",
      "text/plain": [
       "<Figure size 432x288 with 1 Axes>"
      ]
     },
     "metadata": {
      "needs_background": "light"
     },
     "output_type": "display_data"
    },
    {
     "data": {
      "image/png": "[encoded data removed]",
      "text/plain": [
       "<Figure size 432x288 with 1 Axes>"
      ]
     },
     "metadata": {
      "needs_background": "light"
     },
     "output_type": "display_data"
    },
    {
     "data": {
      "image/png": "[encoded data removed]",
      "text/plain": [
       "<Figure size 432x288 with 1 Axes>"
      ]
     },
     "metadata": {
      "needs_background": "light"
     },
     "output_type": "display_data"
    }
   ],
   "source": [
    "import matplotlib.pyplot as plt\n",
    "from keras import layers, models, optimizers\n",
    "\n",
    "# Exploring learning decay for the second model's architecture (using SGD + momentum optimizer)\n",
    "\n",
    "def build_model_decay(lrate, decay): \n",
    "    model = models.Sequential()\n",
    "    model.add(layers.Conv2D(32,(3,3), activation = 'relu', input_shape = (150,150,3)))\n",
    "    model.add(layers.MaxPooling2D((2,2)))\n",
    "    model.add(layers.Conv2D(64, (3,3), activation = 'relu'))\n",
    "    model.add(layers.MaxPooling2D((2,2)))\n",
    "    model.add(layers.Conv2D(128, (3,3), activation = 'relu'))\n",
    "    model.add(layers.MaxPooling2D((2,2)))\n",
    "    model.add(layers.Conv2D(128, (3,3), activation = 'relu'))\n",
    "    model.add(layers.MaxPooling2D((2,2)))\n",
    "    model.add(layers.Flatten())\n",
    "    model.add(layers.Dense(512,activation='relu'))\n",
    "    model.add(layers.Dense(6,activation = 'softmax'))\n",
    "\n",
    "    #model.summary()\n",
    "    model.compile(loss='categorical_crossentropy',\n",
    "             optimizer = optimizers.SGD(lr=lrate,momentum=0.9,decay=decay),\n",
    "             metrics=['acc'])\n",
    "    \n",
    "    return model\n",
    "\n",
    "decay_rate = [0.1,0.01,0.001]\n",
    "\n",
    "for i in range(len(decay_rate)):\n",
    "    plot_num = 310+i+1\n",
    "    plt.subplot(plot_num)\n",
    "    m_lr = build_model_decay(decay_rate[i],0.0001) # learning rate fixed at 0.0001\n",
    "    history = m_lr.fit_generator(train_generator,\n",
    "                                 steps_per_epoch = 100,\n",
    "                                 epochs = 40,\n",
    "                                 validation_data = valid_generator,\n",
    "                                 validation_steps = 100, verbose=0)\n",
    "    acc = history.history['acc']\n",
    "    val_acc = history.history['val_acc']\n",
    "    loss = history.history['loss']\n",
    "    val_loss = history.history['val_loss']\n",
    "\n",
    "    epochs = range(1,len(acc)+1)\n",
    "\n",
    "    plt.plot(epochs,acc, 'b', label='Train accuracy')\n",
    "    plt.plot(epochs,val_acc, 'r', label='Validation accuracy')\n",
    "    plt.title('Accuracy w/ decay rate ='+str(decay_rate[i]), pad=50)\n",
    "    plt.legend()\n",
    "\n",
    "\n",
    "\n",
    "    plt.show()\n"
   ]
  },
  {
   "cell_type": "markdown",
   "metadata": {},
   "source": [
    "### Data Augmentation & DropOut\n",
    "The above model is overfit as shown by the huge gap between training & validation accuracy and inconsistent validation loss. The solution would be to apply data augmentation & add dropout to the model"
   ]
  },
  {
   "cell_type": "code",
   "execution_count": null,
   "metadata": {},
   "outputs": [],
   "source": [
    "# Data augmentation\n",
    "\n",
    "train_datagen = ImageDataGenerator(rescale = 1./255,\n",
    "                                   rotation_range=40,\n",
    "                            width_shift_range=0.2,\n",
    "                            height_shift_range=0.2,\n",
    "                            shear_range=0.2,\n",
    "                            zoom_range=0.2,\n",
    "                            horizontal_flip=True)\n",
    "\n",
    "test_datagen = ImageDataGenerator(rescale=1./255)\n",
    "\n",
    "train_generator = train_datagen.flow_from_directory(train_dir,\n",
    "                                                   target_size = (150,150),\n",
    "                                                   batch_size = 32,\n",
    "                                                   class_mode = 'binary')\n",
    "valid_generator = test_datagen.flow_from_directory(valid_dir,\n",
    "                                                   target_size = (150,150),\n",
    "                                                   batch_size = 32,\n",
    "                                                   class_mode = 'binary')\n"
   ]
  },
  {
   "cell_type": "code",
   "execution_count": null,
   "metadata": {
    "scrolled": true
   },
   "outputs": [],
   "source": [
    "# New model with dropout\n",
    "from keras import layers, models\n",
    "\n",
    "model = models.Sequential()\n",
    "model.add(layers.Conv2D(32,(3,3), activation = 'relu', input_shape = (150,150,3)))\n",
    "model.add(layers.MaxPooling2D((2,2)))\n",
    "model.add(layers.Conv2D(64, (3,3), activation = 'relu'))\n",
    "model.add(layers.MaxPooling2D((2,2)))\n",
    "model.add(layers.Conv2D(128, (3,3), activation = 'relu'))\n",
    "model.add(layers.MaxPooling2D((2,2)))\n",
    "model.add(layers.Conv2D(128, (3,3), activation = 'relu'))\n",
    "model.add(layers.MaxPooling2D((2,2)))\n",
    "model.add(layers.Flatten())\n",
    "model.add(layers.Dropout(0.5))\n",
    "model.add(layers.Dense(512,activation='relu'))\n",
    "model.add(layers.Dense(1,activation = 'sigmoid'))\n",
    "\n",
    "model.compile(loss='binary_crossentropy',\n",
    "             optimizer = optimizers.Adam(lr=1e-04,beta_1=0.9, beta_2=0.999),\n",
    "             metrics=['acc'])\n",
    "\n",
    "history = model.fit_generator(train_generator,\n",
    "                             steps_per_epoch = 100,\n",
    "                             epochs = 50,\n",
    "                             validation_data = valid_generator,\n",
    "                             validation_steps = 50)\n",
    "model.save('cd_drop_aug.h5')\n"
   ]
  },
  {
   "cell_type": "code",
   "execution_count": null,
   "metadata": {},
   "outputs": [],
   "source": [
    "hist_dump = open('cd_dropAug_HistoryDict.pickle', 'wb')\n",
    "pickle.dump(history.history, hist_dump)\n",
    "hist_dump.close()"
   ]
  },
  {
   "cell_type": "code",
   "execution_count": null,
   "metadata": {},
   "outputs": [],
   "source": [
    "acc = history.history['acc']\n",
    "val_acc = history.history['val_acc']\n",
    "loss = history.history['loss']\n",
    "val_loss = history.history['val_loss']\n",
    "\n",
    "epochs = range(1,len(acc)+1)\n",
    "\n",
    "plt.plot(epochs,acc, 'b', label='Train accuracy')\n",
    "plt.plot(epochs,val_acc, 'r', label='Validation accuracy')\n",
    "plt.title('New Model Training & Validation Accuracy')\n",
    "plt.legend()\n",
    "\n",
    "plt.figure()\n",
    "\n",
    "plt.plot(epochs,loss, 'b', label=\"Train loss\")\n",
    "plt.plot(epochs, val_loss, 'r', label='Validation loss')\n",
    "plt.title('New Model Training & Validation Loss')\n",
    "plt.legend()\n",
    "\n",
    "plt.show()"
   ]
  },
  {
   "cell_type": "markdown",
   "metadata": {},
   "source": [
    "## Visualizing "
   ]
  },
  {
   "cell_type": "code",
   "execution_count": null,
   "metadata": {},
   "outputs": [],
   "source": [
    "# Import test data\n",
    "\n",
    "import os, shutil\n",
    "full_image_dir = 'cats_dogs_data/full'\n",
    "base_dir = 'cats_dogs_data'\n",
    "\n",
    "cats_test_dir = os.path.join(os.path.join(base_dir,'test'),'cats')\n",
    "dogs_test_dir = os.path.join(os.path.join(base_dir,'test'),'dogs')\n",
    "\n",
    "    \n",
    "fnames = ['cat.{}.jpg'.format(i) for i in range(1500,2000)]\n",
    "for fname in fnames:\n",
    "    src = os.path.join(full_image_dir,fname)\n",
    "    dest = os.path.join(cats_test_dir,fname)\n",
    "    shutil.copyfile(src,dest)\n",
    "\n",
    "    \n",
    "fnames = ['dog.{}.jpg'.format(i) for i in range(1500,2000)]\n",
    "for fname in fnames:\n",
    "    src = os.path.join(full_image_dir,fname)\n",
    "    dest = os.path.join(dogs_test_dir,fname)\n",
    "    shutil.copyfile(src,dest)\n"
   ]
  },
  {
   "cell_type": "code",
   "execution_count": null,
   "metadata": {},
   "outputs": [],
   "source": [
    "# import example image for channel activation map visualization\n",
    "img_path = 'cats_dogs_data/test/dogs/dog.1512.jpg'\n",
    "\n",
    "from keras.preprocessing import image\n",
    "import numpy as np\n",
    "\n",
    "img = image.load_img(img_path,target_size=(150,150))\n",
    "img_tensor = image.img_to_array(img)\n",
    "img_tensor = np.expand_dims(img_tensor, axis=0)\n",
    "img_tensor /= 255.\n",
    "\n",
    "plt.imshow(img_tensor[0])\n",
    "plt.show()"
   ]
  },
  {
   "cell_type": "code",
   "execution_count": null,
   "metadata": {
    "scrolled": true
   },
   "outputs": [],
   "source": [
    "from keras.models import load_model \n",
    "from keras import models\n",
    "\n",
    "m2 = load_model('cd_drop_aug.h5')\n",
    "layer_outputs = [layer.output for layer in m2.layers[:8]]\n",
    "activation_model = models.Model(inputs=m2.input, output=layer_outputs)\n",
    "activations = activation_model.predict(img_tensor)\n",
    "\n",
    "layer_names = []\n",
    "for layer in m2.layers[:8]:\n",
    "    layer_names.append(layer.name)\n",
    "\n",
    "images_per_row = 16\n",
    "for layer_name, layer_activation in zip(layer_names, activations):\n",
    "    n_features = layer_activation.shape[-1]\n",
    "    size = layer_activation.shape[1]\n",
    "    n_cols = n_features // images_per_row\n",
    "    \n",
    "    display_grid = np.zeros((size*n_cols, images_per_row*size))\n",
    "    \n",
    "    for col in range(n_cols):\n",
    "        for row in range(images_per_row):\n",
    "            channel_image = layer_activation[0,:,:,\n",
    "                                            col * images_per_row + row]\n",
    "            channel_image -= channel_image.mean()\n",
    "            channel_image /= channel_image.std()\n",
    "            channel_image *= 64\n",
    "            channel_image += 128\n",
    "            channel_image = np.clip(channel_image, 0, 255).astype('uint8')\n",
    "            display_grid[col*size:(col+1)*size,\n",
    "                        row*size:(row+1)*size] = channel_image\n",
    "    scale = 1./size\n",
    "    plt.figure(figsize = (scale*display_grid.shape[1],\n",
    "                         scale*display_grid.shape[0]))\n",
    "    plt.title(layer_name)\n",
    "    plt.grid(False)\n",
    "    plt.imshow(display_grid, aspect='auto', cmap='viridis')\n",
    "    "
   ]
  },
  {
   "cell_type": "markdown",
   "metadata": {},
   "source": [
    "Each channel extracts specific features from the images. Channel 4 (fourth column images) highlights that the channel can identify eyes. Channel 3, 5 seems to be identifying lines better."
   ]
  },
  {
   "cell_type": "markdown",
   "metadata": {},
   "source": [
    "## Visualizing Filters"
   ]
  },
  {
   "cell_type": "code",
   "execution_count": null,
   "metadata": {},
   "outputs": [],
   "source": [
    "from keras import backend as K\n",
    "\n",
    "# funciton to convert a tensor to image\n",
    "def deprocess_image(x):\n",
    "    x -= x.mean()\n",
    "    x /= (x.std() + 1e-5)\n",
    "    x *= 0.1\n",
    "    \n",
    "    x += 0.5\n",
    "    x = np.clip(x,0,1)\n",
    "    \n",
    "    x *= 255\n",
    "    x = np.clip(x,0,255).astype('uint8')\n",
    "    return x\n",
    "\n",
    "def generate_pattern(filter_ind, size=150):\n",
    "    \n",
    "    layer_output = m2.get_layer('conv2d_25').output # using layer max_pooling2d_28\n",
    "    loss = K.mean(layer_output[:,:,:,filter_ind]) # getting loss for first filter\n",
    "\n",
    "    grads = K.gradients(loss,m2.input)[0]\n",
    "\n",
    "    grads /= (K.sqrt(K.mean(K.square(grads))) + 1e-05) # normalizing gradients with its L2 norm\n",
    "\n",
    "    # Getting loss and gradient tensors from the DL model\n",
    "    iterate = K.function([m2.input], [loss,grads])\n",
    "    #loss_value, grads_value = iterate([np.zeros((1,150,150,3))])\n",
    "\n",
    "    input_img_data = np.random.random((1,size,size,3)) * 20 + 128.\n",
    "\n",
    "    step = 1.\n",
    "    for i in range(40):\n",
    "        loss_value, grads_value = iterate([input_img_data])\n",
    "        input_img_data += grads_value * step\n",
    "\n",
    "    img = input_img_data[0]\n",
    "    \n",
    "    return deprocess_image(img)\n",
    "\n",
    "#    plt.imshow(deprocess_image(img))"
   ]
  },
  {
   "cell_type": "code",
   "execution_count": null,
   "metadata": {},
   "outputs": [],
   "source": [
    "margin = 5\n",
    "size = 150\n",
    "results = np.zeros((8*size + 7*margin, 8*size + 7*margin, 3))\n",
    "\n",
    "for i in range(8):\n",
    "    for j in range(8):\n",
    "        filter_img = generate_pattern( i+(j*8), size)\n",
    "        \n",
    "        hor_start = i*size + i*margin\n",
    "        hor_end = hor_start + size\n",
    "        ver_start = j*size + j*margin\n",
    "        ver_end = ver_start + size\n",
    "        results[hor_start:hor_end,\n",
    "               ver_start:ver_end,\n",
    "               :] = filter_img\n",
    "\n",
    "plt.figure(figsize=(20,20))\n",
    "plt.imshow(results)"
   ]
  },
  {
   "cell_type": "code",
   "execution_count": null,
   "metadata": {},
   "outputs": [],
   "source": []
  }
 ],
 "metadata": {
  "kernelspec": {
   "display_name": "Python 3",
   "language": "python",
   "name": "python3"
  },
  "language_info": {
   "codemirror_mode": {
    "name": "ipython",
    "version": 3
   },
   "file_extension": ".py",
   "mimetype": "text/x-python",
   "name": "python",
   "nbconvert_exporter": "python",
   "pygments_lexer": "ipython3",
   "version": "3.7.4"
  }
 },
 "nbformat": 4,
 "nbformat_minor": 1
}
